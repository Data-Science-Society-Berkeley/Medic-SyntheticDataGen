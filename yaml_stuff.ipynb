{
  "cells": [
    {
      "cell_type": "code",
      "metadata": {
        "tags": [],
        "cell_id": "00000-ed6e7ad6-c23d-4c08-a328-5672ab9a30ae",
        "deepnote_to_be_reexecuted": false,
        "source_hash": "df295f3a",
        "execution_millis": 37,
        "execution_start": 1614997372706,
        "deepnote_cell_type": "code"
      },
      "source": "import xml.etree.ElementTree as ET #Element Tree XML parsing library\nimport re #Regex library\nimport yaml\nfrom yaml import load, dump\ntry:\n    from yaml import CLoader as Loader, CDumper as Dumper\nexcept ImportError:\n    from yaml import Loader, Dumper",
      "execution_count": 1,
      "outputs": []
    },
    {
      "cell_type": "code",
      "metadata": {
        "tags": [],
        "cell_id": "00001-74fa99ad-e154-4e8b-a997-5ceef8af1bc9",
        "deepnote_to_be_reexecuted": false,
        "source_hash": "ce032fbc",
        "execution_millis": 14,
        "execution_start": 1614997372750,
        "deepnote_cell_type": "code"
      },
      "source": "# @params\n#   root: root of an ElementTree\n#   columns: empty array to store column names\n# Fills the columns array with column names\ndef dfs(root, columns):\n    if root.getchildren() == []:\n        columns.append(root)\n    for child in root.getchildren():\n        dfs(child, columns)\n\n# @param root: root of the tree\n# Outputs the node containing the 'instance' tag which is the start of the data form\ndef findInstanceTag(root):\n    results = []\n    if ('instance' in root.tag):\n        return root\n    for child in root.getchildren():\n        tagElement = root.find(child.tag)\n        results.append(findInstanceTag(tagElement))\n        for node in results:\n            if node is not None:\n                return node\n    \n# @param columns: array of column names\n# Outputs a new array of column names stripped of their xmlns tags \ndef cleanColumnNames(columns):\n    xmlns_re = \"({.+})\"\n    cleaned_columns = [re.sub(xmlns_re, '', name.tag) for name in columns]\n    return cleaned_columns\n\ndef xmlParse(fileName):\n    inputFile = fileName #insert xml file name\n    parser = ET.parse(inputFile) #initialize the ElementTree parser\n    root = parser.getroot() #Find the root of the tree, the <html> tag\n    form = findInstanceTag(root) #find the instances tag - this is the start of the data\n    columns = [] #initialize empty array to store the column names\n    dfs(form, columns) #extract column names with DFS\n    return cleanColumnNames(columns) #clean the columns and return\n\nxmlParse('death_report.xml')",
      "execution_count": 2,
      "outputs": [
        {
          "name": "stderr",
          "text": "/shared-libs/python3.7/py-core/lib/python3.7/site-packages/ipykernel_launcher.py:17: DeprecationWarning: This method will be removed in future versions.  Use 'list(elem)' or iteration over elem instead.\n/shared-libs/python3.7/py-core/lib/python3.7/site-packages/ipykernel_launcher.py:6: DeprecationWarning: This method will be removed in future versions.  Use 'list(elem)' or iteration over elem instead.\n  \n/shared-libs/python3.7/py-core/lib/python3.7/site-packages/ipykernel_launcher.py:8: DeprecationWarning: This method will be removed in future versions.  Use 'list(elem)' or iteration over elem instead.\n  \n",
          "output_type": "stream"
        },
        {
          "output_type": "execute_result",
          "execution_count": 2,
          "data": {
            "text/plain": "['lat',\n 'long',\n 'error',\n 'message',\n 'source',\n 'source_id',\n '_id',\n 'name',\n 'short_name',\n 'patient_id',\n 'date_of_birth',\n 'sex',\n 'name',\n 'phone',\n 'patient_age_in_years',\n 'patient_age_in_months',\n 'patient_age_in_days',\n 'patient_uuid',\n 'patient_id',\n 'patient_name',\n 'patient_short_name',\n 'patient_display_name',\n 'date_of_death',\n 'place_of_death',\n 'place_of_death_other',\n 'death_information',\n 'submit',\n 'r_summary_details',\n 'c_patient_age',\n 'r_patient_details',\n 'r_death_info',\n 'r_key_instruction',\n 'blank_note',\n 'r_referral',\n 'r_undo',\n '__date_of_death',\n '__place_of_death',\n '__place_of_death_other',\n '__death_information',\n '__patient_uuid',\n '__patient_id',\n '__household_uuid',\n '__source',\n '__source_id',\n 'instanceID']"
          },
          "metadata": {}
        }
      ]
    },
    {
      "cell_type": "code",
      "metadata": {
        "tags": [],
        "cell_id": "00004-5887fd2c-4236-4ac2-a9b0-21082a868874",
        "deepnote_to_be_reexecuted": false,
        "source_hash": "49518396",
        "execution_millis": 1,
        "execution_start": 1614997372805,
        "deepnote_cell_type": "code"
      },
      "source": "def yaml_creator(filename, path = \"yaml-files-spencer/\"):   \n    assert '.xml' in filename[-4:]\n    keyvalue_pairs = [{'column': i, 'type': None} for i in xmlParse(filename)]\n    output = yaml.dump(keyvalue_pairs, explicit_start=True, default_flow_style=False)\n\n    try:\n        file_test = open(path + filename[:-4] + \".yaml\", \"r\") # attempt to read the directory first\n    \n    except FileNotFoundError: # if there is no file with the given filename, then proceed\n        file_object = open(path + filename[:-4] + \".yaml\", \"w+\") # w+ means read and write\n        file_object.write(output) # write to file\n        file_object.close() # close file\n        return\n\n    file_test.close() # if we get here, there was already a file\n    raise MemoryError(path + 'File ' + filename[:-4] + '''.yaml already exists in the current working directory. To avoid overwriting, aborting process.''')\n\n",
      "execution_count": 3,
      "outputs": []
    },
    {
      "cell_type": "code",
      "metadata": {
        "tags": [],
        "cell_id": "00006-da22bc41-f354-4e54-8bb8-f939b814beca",
        "deepnote_to_be_reexecuted": false,
        "source_hash": "18452600",
        "execution_millis": 29,
        "execution_start": 1615005182189,
        "deepnote_cell_type": "code"
      },
      "source": "",
      "execution_count": 10,
      "outputs": [
        {
          "name": "stderr",
          "text": "/shared-libs/python3.7/py-core/lib/python3.7/site-packages/ipykernel_launcher.py:17: DeprecationWarning: This method will be removed in future versions.  Use 'list(elem)' or iteration over elem instead.\n/shared-libs/python3.7/py-core/lib/python3.7/site-packages/ipykernel_launcher.py:6: DeprecationWarning: This method will be removed in future versions.  Use 'list(elem)' or iteration over elem instead.\n  \n/shared-libs/python3.7/py-core/lib/python3.7/site-packages/ipykernel_launcher.py:8: DeprecationWarning: This method will be removed in future versions.  Use 'list(elem)' or iteration over elem instead.\n  \n",
          "output_type": "stream"
        },
        {
          "output_type": "error",
          "ename": "MemoryError",
          "evalue": "File death_report.yaml already exists in the current working directory. To avoid overwriting, aborting process.",
          "traceback": [
            "\u001b[0;31m---------------------------------------------------------------------------\u001b[0m",
            "\u001b[0;31mMemoryError\u001b[0m                               Traceback (most recent call last)",
            "\u001b[0;32m<ipython-input-10-11428f4bbceb>\u001b[0m in \u001b[0;36m<module>\u001b[0;34m\u001b[0m\n\u001b[1;32m     10\u001b[0m \"undo_death_report.xml\"]\n\u001b[1;32m     11\u001b[0m \u001b[0;32mfor\u001b[0m \u001b[0mi\u001b[0m \u001b[0;32min\u001b[0m \u001b[0mfiles\u001b[0m\u001b[0;34m:\u001b[0m\u001b[0;34m\u001b[0m\u001b[0;34m\u001b[0m\u001b[0m\n\u001b[0;32m---> 12\u001b[0;31m     \u001b[0myaml_creator\u001b[0m\u001b[0;34m(\u001b[0m\u001b[0mi\u001b[0m\u001b[0;34m)\u001b[0m\u001b[0;34m\u001b[0m\u001b[0;34m\u001b[0m\u001b[0m\n\u001b[0m",
            "\u001b[0;32m<ipython-input-3-73b66fb265ec>\u001b[0m in \u001b[0;36myaml_creator\u001b[0;34m(filename)\u001b[0m\n\u001b[1;32m     14\u001b[0m \u001b[0;34m\u001b[0m\u001b[0m\n\u001b[1;32m     15\u001b[0m     \u001b[0mfile_test\u001b[0m\u001b[0;34m.\u001b[0m\u001b[0mclose\u001b[0m\u001b[0;34m(\u001b[0m\u001b[0;34m)\u001b[0m \u001b[0;31m# if we get here, there was already a file\u001b[0m\u001b[0;34m\u001b[0m\u001b[0;34m\u001b[0m\u001b[0m\n\u001b[0;32m---> 16\u001b[0;31m     \u001b[0;32mraise\u001b[0m \u001b[0mMemoryError\u001b[0m\u001b[0;34m(\u001b[0m\u001b[0;34m'File '\u001b[0m \u001b[0;34m+\u001b[0m \u001b[0mfilename\u001b[0m\u001b[0;34m[\u001b[0m\u001b[0;34m:\u001b[0m\u001b[0;34m-\u001b[0m\u001b[0;36m4\u001b[0m\u001b[0;34m]\u001b[0m \u001b[0;34m+\u001b[0m \u001b[0;34m'''.yaml already exists in the current working directory. To avoid overwriting, aborting process.'''\u001b[0m\u001b[0;34m)\u001b[0m\u001b[0;34m\u001b[0m\u001b[0;34m\u001b[0m\u001b[0m\n\u001b[0m\u001b[1;32m     17\u001b[0m \u001b[0;34m\u001b[0m\u001b[0m\n",
            "\u001b[0;31mMemoryError\u001b[0m: File death_report.yaml already exists in the current working directory. To avoid overwriting, aborting process."
          ]
        }
      ]
    },
    {
      "cell_type": "code",
      "source": "",
      "metadata": {
        "tags": [],
        "cell_id": "00004-742d5d79-0076-42e4-9217-7bb483ab2508",
        "deepnote_cell_type": "code"
      },
      "outputs": [],
      "execution_count": null
    },
    {
      "cell_type": "markdown",
      "source": "<a style='text-decoration:none;line-height:16px;display:flex;color:#5B5B62;padding:10px;justify-content:end;' href='https://deepnote.com?utm_source=created-in-deepnote-cell&projectId=59003b3a-4258-4703-b30d-75642543bba1' target=\"_blank\">\n<img style='display:inline;max-height:16px;margin:0px;margin-right:7.5px;' src='data:image/svg+xml;base64,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' > </img>\nCreated in <span style='font-weight:600;margin-left:4px;'>Deepnote</span></a>",
      "metadata": {
        "tags": [],
        "created_in_deepnote_cell": true,
        "deepnote_cell_type": "markdown"
      }
    }
  ],
  "nbformat": 4,
  "nbformat_minor": 2,
  "metadata": {
    "orig_nbformat": 2,
    "deepnote_notebook_id": "1fc52e99-2565-4246-b79d-5a1a611b07c0",
    "deepnote": {},
    "deepnote_execution_queue": []
  }
}