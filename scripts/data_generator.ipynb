{
  "cells": [
    {
      "cell_type": "code",
      "metadata": {
        "tags": [],
        "cell_id": "00000-43e1b6ef-3eb8-4f7f-8556-63370a9241c2",
        "deepnote_to_be_reexecuted": false,
        "source_hash": "6580c1bc",
        "execution_millis": 0,
        "execution_start": 1619200601331,
        "deepnote_cell_type": "code"
      },
      "source": "#common distributions\n#**normal - good for everything in general\n#**poisson - good for number of occurences \n#exponential  \n#beta \n#gamma\n#**uniform \n#**binomial - need this for indicators too ",
      "execution_count": null,
      "outputs": []
    },
    {
      "cell_type": "markdown",
      "source": "## Working with Floats",
      "metadata": {
        "tags": [],
        "cell_id": "00002-2fb27c81-3348-45b6-995d-049eb1d3feb4",
        "deepnote_cell_type": "text-cell-h2"
      }
    },
    {
      "cell_type": "code",
      "metadata": {
        "tags": [],
        "cell_id": "00002-cc9254f3-23f7-42b9-8155-1cb7252f65c5",
        "deepnote_to_be_reexecuted": false,
        "source_hash": "f19cbaea",
        "execution_millis": 3,
        "execution_start": 1619200606152,
        "deepnote_cell_type": "code"
      },
      "source": "def check_parameters(parameters):\n    for p in parameters:\n        if type(p) not in [int, float]:\n            raise SyntaxError(\"parameters must to integers or floats\")\ncheck_parameters([20, 2.5])",
      "execution_count": null,
      "outputs": []
    },
    {
      "cell_type": "code",
      "metadata": {
        "tags": [],
        "cell_id": "00000-4de94fb6-625e-463d-9888-f0b345df026d",
        "deepnote_to_be_reexecuted": false,
        "source_hash": "1024f1d",
        "execution_millis": 54,
        "execution_start": 1619200606642,
        "deepnote_cell_type": "code"
      },
      "source": "import re #Regex library\nimport yaml\nimport pandas as pd \nfrom yaml import load, dump\ntry:\n    from yaml import CLoader as Loader, CDumper as Dumper\nexcept ImportError:\n    from yaml import Loader, Dumper\nimport numpy as np # name, patientid, date of death, lat, lon\n#Float Generator\n\n#-column: blood sugar\n#   type: float\n#   distribution: {name: 'normal', mean: '5.5', std: '1.5'}\n#   constraints: {upper:8 , lower:2}\n\n\n# name - string field name\n# distribution - dictionary \n# constraints - dictionary\n# size - num rows\n\n\ndef float_generator(distribution, constraints, size):\n    # Extract parameters from distribution\n    # Use the correct function from np and pass in proper parameters + size\n    # Clip the distribution based off of lower and upper constraints\n    # Insert the values into a Series\n   \n   #checks if the 'size' input is an integer\n    if type(size) != int:\n        raise SyntaxError(\"size must be an integer\")\n    \n    name = distribution['name']\n    \n    #generates data with numpy random distributions \n    if name == 'normal':\n        mean, std = distribution['mean'], distribution['std']\n        check_parameters([mean, std])\n        data = np.random.normal(mean, std, size)\n    \n\n    elif name == 'lognormal':\n        mean, std = distribution['mean'], distribution['std']\n        check_parameters([mean, std])\n        data = np.random.lognormal(mean, std, size)\n    \n    elif name == 'uniform':\n        a, b = distribution['a'], distribution['b']\n        check_parameters([a, b])\n        if a > b:\n            raise SyntaxError(\"a must be less than b\")\n        data = np.random.uniform(a, b, size)\n\n    elif name == 'binomial':\n        n, p = distribution['n'], distribution['prob']\n        check_parameters([n, p])\n        data = np.random.binomial(n, p, size)\n    \n    elif name == 'poisson':\n        lam = distribution['lam']\n        check_parameters([lam])\n        data = np.random.poisson(lam, size)\n    \n    elif name == 'beta':\n        alpha, beta = distribution['alpha'], distribution['beta']\n        check_parameters([alpha, beta])\n        data = np.random.beta(alpha, beta, size)\n    \n    elif name == 'gamma':\n        shape, scale = distribution['shape'], distribution['scale']\n        check_parameters([shape, scale])\n        data = np.random.gamma(shape, scale, size)\n    \n    elif name == 'exponential':\n        lam = distribution['lam']\n        check_parameters([lam])\n        data = np.random.exponential(lam, size)\n\n    #checks if 'name' input is supported by generator \n    else:\n        raise SyntaxError(name +\" not recognized\")\n\n    #checks for constraints \n    if constraints == None:\n        return data.tolist()\n\n    #clip outliers based on constraint conditions\n    elif 'max' not in constraints:\n        data = np.clip(data, a_min = constraints['min'], a_max = None)\n        return data.tolist()\n    elif 'min' not in constraints:\n        data = np.clip(data, a_min = None, a_max = constraints['max'])\n        return data.tolist()\n    elif 'min' in constraints and 'max' in constraints: \n        data = np.clip(data, a_min = constraints['min'], a_max = constraints['max'])\n        return data.tolist()\n    #raises error if 'constraints' inputs are invalid\n    else:\n        raise SyntaxError(\"min and max not recognized\")\n\nfloat_generator({'name':'normal', 'mean': 20,'std': 2}, {'max': None, 'min':2}, 20)\n\n\n\n\n        \n\n    \n    ",
      "execution_count": null,
      "outputs": [
        {
          "output_type": "execute_result",
          "execution_count": 3,
          "data": {
            "text/plain": "[17.02691100101805,\n 19.447922675835912,\n 19.923364249006198,\n 22.39163702374367,\n 17.878725163313494,\n 20.711011173841776,\n 15.967759445193991,\n 19.10698116492723,\n 20.68801424675455,\n 16.22743494267798,\n 21.7892213435372,\n 20.179361776365315,\n 20.900752795738182,\n 16.727153636374982,\n 21.964906672781996,\n 18.328080623600542,\n 17.941014364631506,\n 18.323395640692084,\n 19.288923128641592,\n 22.307470850987464]"
          },
          "metadata": {}
        }
      ]
    },
    {
      "cell_type": "markdown",
      "source": "## Int Generator ",
      "metadata": {
        "tags": [],
        "cell_id": "00003-5c482760-90d2-46c9-88ba-4887d1184c6d",
        "deepnote_cell_type": "text-cell-h2"
      }
    },
    {
      "cell_type": "code",
      "metadata": {
        "tags": [],
        "cell_id": "00003-f718e678-c0ee-4a57-8233-6507d1201107",
        "deepnote_to_be_reexecuted": false,
        "source_hash": "b15a6b8e",
        "execution_millis": 10,
        "execution_start": 1619059520616,
        "deepnote_cell_type": "code"
      },
      "source": "def int_generator(distribution, constraints, size):\n    # Extract parameters from distribution\n    # Use the correct function from np and pass in proper parameters + size\n    # Clip the distribution based off of lower and upper constraints\n    # Convert values to int type \n    # Insert the values into a Series\n\n    #generate data with np random distributions \n    #checks if user inputs a bernoulli distribution and uses a binomial to generate it\n    if type(size) != int:\n        raise SyntaxError(\"size must be an integer\")\n    \n    if distribution['name'] == 'bernoulli':\n        data = np.random.binomial(1, distribution['p'], size)\n        data = data.tolist()\n    \n    else:\n        data = float_generator(distribution, constraints, size)\n    \n    #rounds values and convert to ints\n    return np.round(data).astype(int).tolist() \n\nint_generator({'name':'normal', 'mean': 20.5,'std': 2.5}, {'max':30, 'min':2}, 10)\n#int_generator({'name':'bernoulli', 'p': 0.5}, {'upper':'na', 'lower':'na'}, 10)",
      "execution_count": null,
      "outputs": [
        {
          "output_type": "execute_result",
          "execution_count": 45,
          "data": {
            "text/plain": "[25, 18, 20, 20, 22, 19, 22, 16, 23, 16]"
          },
          "metadata": {}
        }
      ]
    },
    {
      "cell_type": "code",
      "metadata": {
        "tags": [],
        "cell_id": "00001-44770457-6564-417d-9679-dc761662053f",
        "deepnote_to_be_reexecuted": false,
        "source_hash": "33640db0",
        "execution_millis": 1,
        "execution_start": 1619061435366,
        "deepnote_cell_type": "code"
      },
      "source": "def string_bestower(dist, choices, i, data_list, number_of_points):\n    for j in range(number_of_points):\n        if dist['name'] == 'normal':\n            assert 'mean' in dist and 'std' in dist, \"must provide mean and std for normal dist\"\n            a = int(np.random.normal(loc=dist['mean'], scale=dist['std']))\n        \n        elif dist['name'] == 'lognormal':\n            assert 'mean' in dist and 'std' in dist, \"must provide mean and std for lognormal dist\"\n            a = int(np.random.lognormal(loc=dist['mean'], scale=dist['std']))\n\n        elif dist['name'] in ['binomial', 'bernoulli']:\n            assert 'n' in dist and 'prob' in dist, \"must provide n and prob for binomial or bernoulli\"\n            a = int(np.random.binomial(n=dist['n'], p=dist['prob']))\n        \n        elif dist['name'] == 'poisson':\n            assert 'lam' in dist, \"must provide lam for poission\"\n            a = int(np.random.poisson(dist['lam']))\n        \n        elif dist['name'] == 'beta':\n            assert 'alpha' in dist and 'beta' in dist, \"must provide alpha and beta for beta dist\"\n            a = int(np.random.beta(dist['alpha'], dist['beta']))\n        \n        elif dist['name'] == 'gamma':\n            assert 'shape' in dist and 'scale' in dist, 'must provide shape and scale for gamma dist'\n            a = int(np.random.gamma(dist['shape'], dist['scale']))\n        \n        elif dist['name'] == 'exponential':\n            assert 'lam' in dist, 'must provide lam for exponential'\n            a = int(np.random.exponential(dist['lam']))\n        \n        elif dist['name'] == 'uniform':\n            assert 'min' in dist and 'max' in dist, 'must provide min and max for uniform dist (separate from constraints)'\n            a = int(np.random.randint(dist['min'], dist['max']))\n        \n        else:\n            raise SyntaxError(\"Bad String dist type\")\n        data_list[i].append(choices[a])",
      "execution_count": null,
      "outputs": []
    },
    {
      "cell_type": "code",
      "metadata": {
        "tags": [],
        "cell_id": "00002-7ac8abbf-f8e6-40b3-8778-6287d9ae4943",
        "deepnote_to_be_reexecuted": false,
        "source_hash": "bcc9e420",
        "execution_millis": 2,
        "execution_start": 1619061439349,
        "deepnote_cell_type": "code"
      },
      "source": "list_of_names = [\"Kendrich Garner\", \"Xavion Douglas\", \"Dantrell Lucas\", \"Dashaud Dunn\", \"Stefon Vaughn\", \n\"Blake Mccoy\", \"Louvenia Murray\", \"Kwashay Houston\", \"Chineka Gray\", \"Kaeja Williams\", \"Tasia Floyd\", \"Chaybree Robertson\",\n\"Jori Henry\", \"Reginal Nash\", \"Calvon Gray\", \"Quandell Morris\", \"Tyrice Gordon\", \"Quintrell Whitfield\", \n\"Rhianna Miles\", \"Ashkira Bradford\", \"Dustina Graves\", \"Jomary Solomon\", \"Kamen Hawkins\", \"Odessa Morton\", \n\"Monifa Opeyemi\", \"Chukwuma Abiodun\", \"Boipelo Afolayan\", \"Tapiwa Botha\", \"Makena Kariuki\",\n\"Wambui Arendse\", \"Chidimma Ihejirika\", \"Akpan Okeke\", \"Oghenero Ayodele\", \"Oni Okeke\",\n\"Chidiegwu Babatunde\", \"Kwasi Mwangi\", \"Chiemeka Kariuki\", \"Chiumbo Adebayo\", \"Tsholofelo Afolayan\", \n\"Wanjiku Kariuki\", \"Sisay Idowu\", \"Ayaan Maina\", \"Efua Adebayo\", \"Issoufou Opeyemi\"]\n\ndef generate_name(names):\n    return np.random.choice(names)\n",
      "execution_count": null,
      "outputs": []
    },
    {
      "cell_type": "markdown",
      "source": "## Working with Datetime",
      "metadata": {
        "tags": [],
        "cell_id": "00004-0de83742-e448-440d-a877-a45ca5e37088",
        "deepnote_cell_type": "text-cell-h2"
      }
    },
    {
      "cell_type": "code",
      "metadata": {
        "tags": [],
        "cell_id": "00010-f8e65d1f-8dea-4fb8-91ac-43e1a7133c89",
        "deepnote_to_be_reexecuted": false,
        "source_hash": "939b5f5e",
        "execution_millis": 27,
        "execution_start": 1619059521981,
        "deepnote_cell_type": "code"
      },
      "source": "import datetime\nimport numpy as np\n\ndef generateDate(size, minYear, maxYear):\n    if type(size) != int or type(minYear) != int or type(maxYear) != int:\n        raise SyntaxError(\"size must be an integer\")\n    if len(str(minYear)) != 4 or len(str(maxYear)) != 4:\n        raise SyntaxError(\"year must be 4 digits\")\n    i=0\n    dates_lst = []\n    while i < size:\n        i+=1\n        dateVal = datetime.date(np.random.randint(minYear, maxYear), np.random.randint(1, 12), np.random.randint(1, 28))\n        dates_lst.append(str(dateVal))\n    \n    return dates_lst\n\ndateStuff = generateDate(50, 1900, 2000)\ndateStuff\n",
      "execution_count": null,
      "outputs": [
        {
          "output_type": "execute_result",
          "execution_count": 48,
          "data": {
            "text/plain": "['1905-10-19',\n '1943-06-24',\n '1980-07-21',\n '1935-03-09',\n '1974-07-15',\n '1976-02-26',\n '1955-07-19',\n '1917-09-20',\n '1901-11-24',\n '1986-04-26',\n '1973-03-10',\n '1958-09-23',\n '1993-06-22',\n '1953-04-14',\n '1901-02-21',\n '1957-03-23',\n '1954-06-09',\n '1997-03-20',\n '1996-11-23',\n '1966-05-01',\n '1997-04-07',\n '1973-06-01',\n '1991-01-19',\n '1923-03-22',\n '1990-10-12',\n '1931-05-23',\n '1943-09-03',\n '1912-02-05',\n '1965-09-01',\n '1964-03-13',\n '1933-09-21',\n '1911-06-07',\n '1944-11-22',\n '1915-03-02',\n '1936-02-06',\n '1907-11-05',\n '1922-03-01',\n '1950-02-26',\n '1999-07-10',\n '1950-05-27',\n '1937-05-09',\n '1997-08-04',\n '1979-07-13',\n '1920-08-21',\n '1943-04-02',\n '1935-05-25',\n '1967-02-10',\n '1952-09-15',\n '1970-10-06',\n '1987-10-21']"
          },
          "metadata": {}
        }
      ]
    },
    {
      "cell_type": "code",
      "metadata": {
        "tags": [],
        "cell_id": "00004-22936b9b-d3d8-4e4e-acb5-fb0854c4f791",
        "deepnote_to_be_reexecuted": false,
        "source_hash": "f8e6cbd8",
        "execution_millis": 10,
        "execution_start": 1619059522265,
        "deepnote_cell_type": "code"
      },
      "source": "import datetime\nfrom datetime import timedelta\n# ? \"BirthDate\"\n# : \n#   constraints: ~\n#   distribution: \n#     mean: \"5.5\"\n#     name: normal\n#     std: \"1.5\"\n#   strings: ./default/default_province.txt\n#   type: datetime\n\ndef generate_birthDate(size, minYear, maxYear):\n\n  def to_integer(dt_time):\n    return 1*dt_time.year\n\n  print(\"Birthdates and Deathdates\")\n  i = 0\n  birthdates_lst = []\n  deathdates_lst = []\n  while i < size: \n    i+=1\n    birthdate = datetime.date(np.random.randint(minYear, maxYear), np.random.randint(1, 12), np.random.randint(1, 28))\n    deathdate = datetime.date(np.random.randint(minYear+50, maxYear+50), np.random.randint(1, 12), np.random.randint(1, 28))\n    if to_integer(birthdate) > 1960:\n      birthdates_lst.append(str(birthdate))\n      deathdates_lst.append(\"N/A\")\n      # print(birthdates_lst)\n      # print(deathdates_lst)\n    else:\n      if to_integer(deathdate) < 2021:\n        birthdates_lst.append(str(birthdate))\n        deathdates_lst.append(str(deathdate))\n        # print(birthdates_lst)\n        # print(deathdates_lst)\n      else:\n        birthdates_lst.append(str(birthdate))\n        deathdates_lst.append(\"N/A\")\n        # print(birthdates_lst)\n        # print(deathdates_lst)\n\n  return birthdates_lst, deathdates_lst\n  \n    \n\n  \n\nbirthdateSample = generate_birthDate(50, 1900, 2000)\nbirthdateSample\n",
      "execution_count": null,
      "outputs": [
        {
          "name": "stdout",
          "text": "Birthdates and Deathdates\n",
          "output_type": "stream"
        },
        {
          "output_type": "execute_result",
          "execution_count": 49,
          "data": {
            "text/plain": "(['1900-08-20',\n  '1977-01-26',\n  '1905-01-18',\n  '1992-11-26',\n  '1922-10-15',\n  '1933-04-19',\n  '1977-04-13',\n  '1912-04-22',\n  '1923-06-09',\n  '1903-09-05',\n  '1962-09-11',\n  '1997-11-19',\n  '1908-08-07',\n  '1905-04-05',\n  '1985-06-04',\n  '1961-09-20',\n  '1976-03-21',\n  '1987-09-03',\n  '1965-04-06',\n  '1945-03-07',\n  '1930-01-13',\n  '1958-02-07',\n  '1930-06-19',\n  '1988-05-08',\n  '1992-01-15',\n  '1927-11-09',\n  '1937-06-02',\n  '1917-01-20',\n  '1903-11-21',\n  '1952-11-22',\n  '1995-06-03',\n  '1997-06-11',\n  '1954-02-25',\n  '1929-08-27',\n  '1939-05-13',\n  '1956-02-03',\n  '1957-02-02',\n  '1904-01-06',\n  '1989-11-15',\n  '1943-06-26',\n  '1946-02-08',\n  '1999-01-06',\n  '1960-06-27',\n  '1989-04-03',\n  '1934-10-14',\n  '1937-09-07',\n  '1980-03-12',\n  '1908-11-18',\n  '1996-09-14',\n  '1961-06-24'],\n ['N/A',\n  'N/A',\n  '1999-02-13',\n  'N/A',\n  'N/A',\n  '1976-08-10',\n  'N/A',\n  'N/A',\n  '2020-11-25',\n  '1969-10-20',\n  'N/A',\n  'N/A',\n  'N/A',\n  '2020-05-22',\n  'N/A',\n  'N/A',\n  'N/A',\n  'N/A',\n  'N/A',\n  '1960-09-22',\n  '1999-10-20',\n  '1970-10-22',\n  '1991-06-11',\n  'N/A',\n  'N/A',\n  '1984-02-07',\n  'N/A',\n  '1960-09-25',\n  '1984-08-08',\n  '1957-05-02',\n  'N/A',\n  'N/A',\n  '1993-10-07',\n  '2020-02-21',\n  'N/A',\n  '2011-05-09',\n  '2020-10-04',\n  'N/A',\n  'N/A',\n  'N/A',\n  'N/A',\n  'N/A',\n  '1998-04-25',\n  'N/A',\n  '2013-03-01',\n  'N/A',\n  'N/A',\n  'N/A',\n  'N/A',\n  'N/A'])"
          },
          "metadata": {}
        }
      ]
    },
    {
      "cell_type": "code",
      "metadata": {
        "tags": [],
        "cell_id": "00006-418c2ffb-edb2-455d-8fdd-45e257bbc81e",
        "deepnote_to_be_reexecuted": false,
        "source_hash": "b29efb24",
        "execution_millis": 85,
        "execution_start": 1619062430890,
        "deepnote_cell_type": "code"
      },
      "source": "import pandas as pd\ndef datagen(direc, filename):\n    assert type(direc) == str and type(filename) == str, \"datagen accepts a file directory and filename in string format as its arguments.\"\n    data_list = {}\n    try:\n        a = open(direc + filename)\n    except FileNotFoundError:\n        raise TypeError(\"File \" + direc + filename + \" does not exist at the specified directory.\")\n    except:\n        raise Exception(\"Another error occurred.\")\n    try:\n        loaded = yaml.load(a, Loader=yaml.FullLoader)\n    except:\n        raise SyntaxError(\"Improperly formatted yaml file: \" + direc + filename)\n    assert 'rows' in loaded, \"number of rows not specified in \" + direc + filename + \".\"\n    rows = loaded['rows']\n    assert type(rows) in [int, float] and rows >= 1, \"number of rows improperly specified in \" + direc + filename + \".\"\n\n    for i in list(loaded)[1:]:\n        assert 'type' in loaded[i], \"no type for column \" + i\n        the_type = loaded[i]['type']\n        assert 'distribution' in loaded[i], \"no distribution specified for column \" + i\n        the_dist = loaded[i]['distribution']\n\n        the_consts = loaded[i]['constraints']\n\n        if the_type == 'int':\n            data_list[i] = int_generator(the_dist, the_consts, rows)\n        \n        elif the_type == 'float':\n            data_list[i] = float_generator(the_dist, the_consts, rows)\n        \n        elif the_type == 'string': \n            assert 'strings' in loaded[i] and type(loaded[i]['strings'] == str), 'improperly specified string path for ' + i\n            try:\n                choices = open(direc + loaded[i]['strings'],'r').read().split(\", \")\n            except:\n                raise FileNotFoundError(\"Bad file directory for \" + i + \":\" + direc + loaded[i]['strings'])\n            data_list[i] = []\n            string_bestower(the_dist, choices, i, data_list, rows)\n        \n        elif loaded[i]['type'] == 'date':\n            data_list[i] = generateDate(rows, the_consts['min'], the_consts['max'])\n            # OLD CODE BELOW\n            #if loaded[i]['pair_of_dates'] == 1:\n            #    generated = generate_birthDate(rows, the_consts['min'], the_consts['max'])\n            #    data_list[i + \"_start\"] = generated[0]\n            #    data_list[i + \"_end\"] = generated[1]\n            #elif loaded[i]['pair_of_dates'] == 0:\n            #    generated = generate_birthDate(rows, the_consts['min'], the_consts['max'])\n            #    data_list[i] = generated[0]\n        else:\n            raise SyntaxError(\"Type for \" + i + \" not 'int', 'float', 'string', or 'date': \" + loaded[i]['type'])\n        df = pd.DataFrame(data_list)\n    return df.to_csv(\"../synthetic-data/\" + filename[:-5] + \".csv\") #(CSV for each yaml file -> synthetic-data directory)\n\ndatagen(\"../yaml-files/\", \"properdelivery.yaml\")",
      "execution_count": null,
      "outputs": [
        {
          "output_type": "execute_result",
          "execution_count": 123,
          "data": {
            "application/vnd.deepnote.dataframe.v2+json": {
              "row_count": 20,
              "column_count": 14,
              "columns": [
                {
                  "name": "_id",
                  "dtype": "int64",
                  "stats": {
                    "unique_count": 20,
                    "nan_count": 0,
                    "min": "64",
                    "max": "1224",
                    "histogram": [
                      {
                        "bin_start": 64,
                        "bin_end": 180,
                        "count": 2
                      },
                      {
                        "bin_start": 180,
                        "bin_end": 296,
                        "count": 1
                      },
                      {
                        "bin_start": 296,
                        "bin_end": 412,
                        "count": 3
                      },
                      {
                        "bin_start": 412,
                        "bin_end": 528,
                        "count": 3
                      },
                      {
                        "bin_start": 528,
                        "bin_end": 644,
                        "count": 1
                      },
                      {
                        "bin_start": 644,
                        "bin_end": 760,
                        "count": 1
                      },
                      {
                        "bin_start": 760,
                        "bin_end": 876,
                        "count": 0
                      },
                      {
                        "bin_start": 876,
                        "bin_end": 992,
                        "count": 0
                      },
                      {
                        "bin_start": 992,
                        "bin_end": 1108,
                        "count": 4
                      },
                      {
                        "bin_start": 1108,
                        "bin_end": 1224,
                        "count": 5
                      }
                    ]
                  }
                },
                {
                  "name": "birth_date",
                  "dtype": "object",
                  "stats": {
                    "unique_count": 20,
                    "nan_count": 0,
                    "categories": [
                      {
                        "name": "2019-08-27",
                        "count": 1
                      },
                      {
                        "name": "1998-04-10",
                        "count": 1
                      },
                      {
                        "name": "18 others",
                        "count": 18
                      }
                    ]
                  }
                },
                {
                  "name": "date_of_birth",
                  "dtype": "object",
                  "stats": {
                    "unique_count": 20,
                    "nan_count": 0,
                    "categories": [
                      {
                        "name": "1926-03-13",
                        "count": 1
                      },
                      {
                        "name": "1902-07-13",
                        "count": 1
                      },
                      {
                        "name": "18 others",
                        "count": 18
                      }
                    ]
                  }
                },
                {
                  "name": "error",
                  "dtype": "float64",
                  "stats": {
                    "unique_count": 7,
                    "nan_count": 0,
                    "min": "2.0",
                    "max": "9.0",
                    "histogram": [
                      {
                        "bin_start": 2,
                        "bin_end": 2.7,
                        "count": 1
                      },
                      {
                        "bin_start": 2.7,
                        "bin_end": 3.4,
                        "count": 4
                      },
                      {
                        "bin_start": 3.4,
                        "bin_end": 4.1,
                        "count": 5
                      },
                      {
                        "bin_start": 4.1,
                        "bin_end": 4.8,
                        "count": 0
                      },
                      {
                        "bin_start": 4.8,
                        "bin_end": 5.5,
                        "count": 5
                      },
                      {
                        "bin_start": 5.5,
                        "bin_end": 6.199999999999999,
                        "count": 2
                      },
                      {
                        "bin_start": 6.199999999999999,
                        "bin_end": 6.8999999999999995,
                        "count": 0
                      },
                      {
                        "bin_start": 6.8999999999999995,
                        "bin_end": 7.6,
                        "count": 2
                      },
                      {
                        "bin_start": 7.6,
                        "bin_end": 8.3,
                        "count": 0
                      },
                      {
                        "bin_start": 8.3,
                        "bin_end": 9,
                        "count": 1
                      }
                    ]
                  }
                },
                {
                  "name": "lat",
                  "dtype": "float64",
                  "stats": {
                    "unique_count": 1,
                    "nan_count": 0,
                    "min": "120.34",
                    "max": "120.34",
                    "histogram": [
                      {
                        "bin_start": 119.84,
                        "bin_end": 119.94,
                        "count": 0
                      },
                      {
                        "bin_start": 119.94,
                        "bin_end": 120.04,
                        "count": 0
                      },
                      {
                        "bin_start": 120.04,
                        "bin_end": 120.14,
                        "count": 0
                      },
                      {
                        "bin_start": 120.14,
                        "bin_end": 120.24000000000001,
                        "count": 0
                      },
                      {
                        "bin_start": 120.24000000000001,
                        "bin_end": 120.34,
                        "count": 0
                      },
                      {
                        "bin_start": 120.34,
                        "bin_end": 120.44,
                        "count": 20
                      },
                      {
                        "bin_start": 120.44,
                        "bin_end": 120.54,
                        "count": 0
                      },
                      {
                        "bin_start": 120.54,
                        "bin_end": 120.64,
                        "count": 0
                      },
                      {
                        "bin_start": 120.64,
                        "bin_end": 120.74000000000001,
                        "count": 0
                      },
                      {
                        "bin_start": 120.74000000000001,
                        "bin_end": 120.84,
                        "count": 0
                      }
                    ]
                  }
                },
                {
                  "name": "long",
                  "dtype": "float64",
                  "stats": {
                    "unique_count": 1,
                    "nan_count": 0,
                    "min": "30.54",
                    "max": "30.54",
                    "histogram": [
                      {
                        "bin_start": 30.04,
                        "bin_end": 30.14,
                        "count": 0
                      },
                      {
                        "bin_start": 30.14,
                        "bin_end": 30.24,
                        "count": 0
                      },
                      {
                        "bin_start": 30.24,
                        "bin_end": 30.34,
                        "count": 0
                      },
                      {
                        "bin_start": 30.34,
                        "bin_end": 30.439999999999998,
                        "count": 0
                      },
                      {
                        "bin_start": 30.439999999999998,
                        "bin_end": 30.54,
                        "count": 0
                      },
                      {
                        "bin_start": 30.54,
                        "bin_end": 30.64,
                        "count": 20
                      },
                      {
                        "bin_start": 30.64,
                        "bin_end": 30.74,
                        "count": 0
                      },
                      {
                        "bin_start": 30.74,
                        "bin_end": 30.84,
                        "count": 0
                      },
                      {
                        "bin_start": 30.84,
                        "bin_end": 30.939999999999998,
                        "count": 0
                      },
                      {
                        "bin_start": 30.939999999999998,
                        "bin_end": 31.04,
                        "count": 0
                      }
                    ]
                  }
                },
                {
                  "name": "message",
                  "dtype": "object",
                  "stats": {
                    "unique_count": 2,
                    "nan_count": 0,
                    "categories": [
                      {
                        "name": "When can I reach you?",
                        "count": 11
                      },
                      {
                        "name": "What time are you available?",
                        "count": 9
                      }
                    ]
                  }
                },
                {
                  "name": "name",
                  "dtype": "object",
                  "stats": {
                    "unique_count": 2,
                    "nan_count": 0,
                    "categories": [
                      {
                        "name": "nah",
                        "count": 10
                      },
                      {
                        "name": "bye",
                        "count": 10
                      }
                    ]
                  }
                },
                {
                  "name": "patient_id",
                  "dtype": "int64",
                  "stats": {
                    "unique_count": 20,
                    "nan_count": 0,
                    "min": "104",
                    "max": "1226",
                    "histogram": [
                      {
                        "bin_start": 104,
                        "bin_end": 216.2,
                        "count": 2
                      },
                      {
                        "bin_start": 216.2,
                        "bin_end": 328.4,
                        "count": 2
                      },
                      {
                        "bin_start": 328.4,
                        "bin_end": 440.6,
                        "count": 5
                      },
                      {
                        "bin_start": 440.6,
                        "bin_end": 552.8,
                        "count": 1
                      },
                      {
                        "bin_start": 552.8,
                        "bin_end": 665,
                        "count": 0
                      },
                      {
                        "bin_start": 665,
                        "bin_end": 777.2,
                        "count": 2
                      },
                      {
                        "bin_start": 777.2,
                        "bin_end": 889.4,
                        "count": 1
                      },
                      {
                        "bin_start": 889.4,
                        "bin_end": 1001.6,
                        "count": 2
                      },
                      {
                        "bin_start": 1001.6,
                        "bin_end": 1113.8000000000002,
                        "count": 2
                      },
                      {
                        "bin_start": 1113.8000000000002,
                        "bin_end": 1226,
                        "count": 3
                      }
                    ]
                  }
                },
                {
                  "name": "patient_uuid",
                  "dtype": "int64",
                  "stats": {
                    "unique_count": 20,
                    "nan_count": 0,
                    "min": "135",
                    "max": "1228",
                    "histogram": [
                      {
                        "bin_start": 135,
                        "bin_end": 244.3,
                        "count": 4
                      },
                      {
                        "bin_start": 244.3,
                        "bin_end": 353.6,
                        "count": 1
                      },
                      {
                        "bin_start": 353.6,
                        "bin_end": 462.9,
                        "count": 2
                      },
                      {
                        "bin_start": 462.9,
                        "bin_end": 572.2,
                        "count": 3
                      },
                      {
                        "bin_start": 572.2,
                        "bin_end": 681.5,
                        "count": 2
                      },
                      {
                        "bin_start": 681.5,
                        "bin_end": 790.8,
                        "count": 2
                      },
                      {
                        "bin_start": 790.8,
                        "bin_end": 900.1,
                        "count": 1
                      },
                      {
                        "bin_start": 900.1,
                        "bin_end": 1009.4,
                        "count": 1
                      },
                      {
                        "bin_start": 1009.4,
                        "bin_end": 1118.6999999999998,
                        "count": 2
                      },
                      {
                        "bin_start": 1118.6999999999998,
                        "bin_end": 1228,
                        "count": 2
                      }
                    ]
                  }
                },
                {
                  "name": "source",
                  "dtype": "int64",
                  "stats": {
                    "unique_count": 20,
                    "nan_count": 0,
                    "min": "45",
                    "max": "1196",
                    "histogram": [
                      {
                        "bin_start": 45,
                        "bin_end": 160.1,
                        "count": 3
                      },
                      {
                        "bin_start": 160.1,
                        "bin_end": 275.2,
                        "count": 1
                      },
                      {
                        "bin_start": 275.2,
                        "bin_end": 390.29999999999995,
                        "count": 2
                      },
                      {
                        "bin_start": 390.29999999999995,
                        "bin_end": 505.4,
                        "count": 2
                      },
                      {
                        "bin_start": 505.4,
                        "bin_end": 620.5,
                        "count": 0
                      },
                      {
                        "bin_start": 620.5,
                        "bin_end": 735.5999999999999,
                        "count": 3
                      },
                      {
                        "bin_start": 735.5999999999999,
                        "bin_end": 850.6999999999999,
                        "count": 0
                      },
                      {
                        "bin_start": 850.6999999999999,
                        "bin_end": 965.8,
                        "count": 3
                      },
                      {
                        "bin_start": 965.8,
                        "bin_end": 1080.8999999999999,
                        "count": 3
                      },
                      {
                        "bin_start": 1080.8999999999999,
                        "bin_end": 1196,
                        "count": 3
                      }
                    ]
                  }
                },
                {
                  "name": "source_id",
                  "dtype": "int64",
                  "stats": {
                    "unique_count": 20,
                    "nan_count": 0,
                    "min": "81",
                    "max": "1221",
                    "histogram": [
                      {
                        "bin_start": 81,
                        "bin_end": 195,
                        "count": 2
                      },
                      {
                        "bin_start": 195,
                        "bin_end": 309,
                        "count": 3
                      },
                      {
                        "bin_start": 309,
                        "bin_end": 423,
                        "count": 3
                      },
                      {
                        "bin_start": 423,
                        "bin_end": 537,
                        "count": 3
                      },
                      {
                        "bin_start": 537,
                        "bin_end": 651,
                        "count": 2
                      },
                      {
                        "bin_start": 651,
                        "bin_end": 765,
                        "count": 0
                      },
                      {
                        "bin_start": 765,
                        "bin_end": 879,
                        "count": 2
                      },
                      {
                        "bin_start": 879,
                        "bin_end": 993,
                        "count": 2
                      },
                      {
                        "bin_start": 993,
                        "bin_end": 1107,
                        "count": 1
                      },
                      {
                        "bin_start": 1107,
                        "bin_end": 1221,
                        "count": 2
                      }
                    ]
                  }
                },
                {
                  "name": "still_pregnant",
                  "dtype": "object",
                  "stats": {
                    "unique_count": 1,
                    "nan_count": 0,
                    "categories": [
                      {
                        "name": "no",
                        "count": 20
                      }
                    ]
                  }
                },
                {
                  "name": "use_cases",
                  "dtype": "object",
                  "stats": {
                    "unique_count": 10,
                    "nan_count": 0,
                    "categories": [
                      {
                        "name": "use6",
                        "count": 4
                      },
                      {
                        "name": "use13",
                        "count": 3
                      },
                      {
                        "name": "8 others",
                        "count": 13
                      }
                    ]
                  }
                },
                {
                  "name": "_deepnote_index_column",
                  "dtype": "int64"
                }
              ],
              "rows_top": [
                {
                  "_id": 64,
                  "birth_date": "2019-08-27",
                  "date_of_birth": "1926-03-13",
                  "error": 3,
                  "lat": 120.34,
                  "long": 30.54,
                  "message": "What time are you available?",
                  "name": "nah",
                  "patient_id": 989,
                  "patient_uuid": 797,
                  "source": 469,
                  "source_id": 482,
                  "still_pregnant": "no",
                  "use_cases": "use13",
                  "_deepnote_index_column": 0
                },
                {
                  "_id": 113,
                  "birth_date": "1998-04-10",
                  "date_of_birth": "1902-07-13",
                  "error": 5,
                  "lat": 120.34,
                  "long": 30.54,
                  "message": "When can I reach you?",
                  "name": "nah",
                  "patient_id": 393,
                  "patient_uuid": 1093,
                  "source": 45,
                  "source_id": 854,
                  "still_pregnant": "no",
                  "use_cases": "use13",
                  "_deepnote_index_column": 1
                },
                {
                  "_id": 380,
                  "birth_date": "1998-08-10",
                  "date_of_birth": "1946-01-14",
                  "error": 6,
                  "lat": 120.34,
                  "long": 30.54,
                  "message": "What time are you available?",
                  "name": "nah",
                  "patient_id": 1226,
                  "patient_uuid": 711,
                  "source": 51,
                  "source_id": 560,
                  "still_pregnant": "no",
                  "use_cases": "use13",
                  "_deepnote_index_column": 2
                },
                {
                  "_id": 1212,
                  "birth_date": "1990-08-19",
                  "date_of_birth": "1920-07-07",
                  "error": 4,
                  "lat": 120.34,
                  "long": 30.54,
                  "message": "When can I reach you?",
                  "name": "nah",
                  "patient_id": 104,
                  "patient_uuid": 575,
                  "source": 160,
                  "source_id": 386,
                  "still_pregnant": "no",
                  "use_cases": "use3",
                  "_deepnote_index_column": 3
                },
                {
                  "_id": 1053,
                  "birth_date": "1976-10-12",
                  "date_of_birth": "1942-01-05",
                  "error": 9,
                  "lat": 120.34,
                  "long": 30.54,
                  "message": "When can I reach you?",
                  "name": "nah",
                  "patient_id": 397,
                  "patient_uuid": 230,
                  "source": 668,
                  "source_id": 544,
                  "still_pregnant": "no",
                  "use_cases": "use8",
                  "_deepnote_index_column": 4
                },
                {
                  "_id": 745,
                  "birth_date": "1959-11-03",
                  "date_of_birth": "1911-05-11",
                  "error": 5,
                  "lat": 120.34,
                  "long": 30.54,
                  "message": "When can I reach you?",
                  "name": "bye",
                  "patient_id": 867,
                  "patient_uuid": 593,
                  "source": 1144,
                  "source_id": 1221,
                  "still_pregnant": "no",
                  "use_cases": "use8",
                  "_deepnote_index_column": 5
                },
                {
                  "_id": 288,
                  "birth_date": "1953-11-10",
                  "date_of_birth": "1916-02-03",
                  "error": 5,
                  "lat": 120.34,
                  "long": 30.54,
                  "message": "When can I reach you?",
                  "name": "nah",
                  "patient_id": 1115,
                  "patient_uuid": 1228,
                  "source": 977,
                  "source_id": 509,
                  "still_pregnant": "no",
                  "use_cases": "use3",
                  "_deepnote_index_column": 6
                },
                {
                  "_id": 1166,
                  "birth_date": "1989-05-13",
                  "date_of_birth": "1928-06-13",
                  "error": 2,
                  "lat": 120.34,
                  "long": 30.54,
                  "message": "When can I reach you?",
                  "name": "nah",
                  "patient_id": 164,
                  "patient_uuid": 143,
                  "source": 729,
                  "source_id": 907,
                  "still_pregnant": "no",
                  "use_cases": "use6",
                  "_deepnote_index_column": 7
                },
                {
                  "_id": 595,
                  "birth_date": "1984-02-17",
                  "date_of_birth": "1947-03-03",
                  "error": 6,
                  "lat": 120.34,
                  "long": 30.54,
                  "message": "What time are you available?",
                  "name": "bye",
                  "patient_id": 1197,
                  "patient_uuid": 788,
                  "source": 960,
                  "source_id": 81,
                  "still_pregnant": "no",
                  "use_cases": "use12",
                  "_deepnote_index_column": 8
                },
                {
                  "_id": 1155,
                  "birth_date": "1965-10-26",
                  "date_of_birth": "1934-05-15",
                  "error": 4,
                  "lat": 120.34,
                  "long": 30.54,
                  "message": "When can I reach you?",
                  "name": "nah",
                  "patient_id": 247,
                  "patient_uuid": 212,
                  "source": 1015,
                  "source_id": 400,
                  "still_pregnant": "no",
                  "use_cases": "use4",
                  "_deepnote_index_column": 9
                },
                {
                  "_id": 1068,
                  "birth_date": "1991-10-03",
                  "date_of_birth": "1938-11-21",
                  "error": 3,
                  "lat": 120.34,
                  "long": 30.54,
                  "message": "When can I reach you?",
                  "name": "bye",
                  "patient_id": 389,
                  "patient_uuid": 135,
                  "source": 228,
                  "source_id": 465,
                  "still_pregnant": "no",
                  "use_cases": "use7",
                  "_deepnote_index_column": 10
                },
                {
                  "_id": 1224,
                  "birth_date": "2004-03-05",
                  "date_of_birth": "1945-11-12",
                  "error": 4,
                  "lat": 120.34,
                  "long": 30.54,
                  "message": "What time are you available?",
                  "name": "bye",
                  "patient_id": 418,
                  "patient_uuid": 548,
                  "source": 326,
                  "source_id": 1063,
                  "still_pregnant": "no",
                  "use_cases": "use6",
                  "_deepnote_index_column": 11
                },
                {
                  "_id": 320,
                  "birth_date": "1997-08-21",
                  "date_of_birth": "1932-09-20",
                  "error": 3,
                  "lat": 120.34,
                  "long": 30.54,
                  "message": "What time are you available?",
                  "name": "nah",
                  "patient_id": 693,
                  "patient_uuid": 935,
                  "source": 641,
                  "source_id": 239,
                  "still_pregnant": "no",
                  "use_cases": "use12",
                  "_deepnote_index_column": 12
                },
                {
                  "_id": 481,
                  "birth_date": "1956-02-06",
                  "date_of_birth": "1935-10-26",
                  "error": 4,
                  "lat": 120.34,
                  "long": 30.54,
                  "message": "What time are you available?",
                  "name": "nah",
                  "patient_id": 336,
                  "patient_uuid": 527,
                  "source": 948,
                  "source_id": 283,
                  "still_pregnant": "no",
                  "use_cases": "use15",
                  "_deepnote_index_column": 13
                },
                {
                  "_id": 493,
                  "birth_date": "1987-07-10",
                  "date_of_birth": "1925-03-01",
                  "error": 7,
                  "lat": 120.34,
                  "long": 30.54,
                  "message": "What time are you available?",
                  "name": "bye",
                  "patient_id": 773,
                  "patient_uuid": 414,
                  "source": 407,
                  "source_id": 166,
                  "still_pregnant": "no",
                  "use_cases": "use6",
                  "_deepnote_index_column": 14
                },
                {
                  "_id": 480,
                  "birth_date": "2013-06-08",
                  "date_of_birth": "1908-05-20",
                  "error": 4,
                  "lat": 120.34,
                  "long": 30.54,
                  "message": "What time are you available?",
                  "name": "bye",
                  "patient_id": 921,
                  "patient_uuid": 506,
                  "source": 1149,
                  "source_id": 817,
                  "still_pregnant": "no",
                  "use_cases": "use2",
                  "_deepnote_index_column": 15
                },
                {
                  "_id": 999,
                  "birth_date": "1983-01-24",
                  "date_of_birth": "1954-01-15",
                  "error": 5,
                  "lat": 120.34,
                  "long": 30.54,
                  "message": "When can I reach you?",
                  "name": "bye",
                  "patient_id": 302,
                  "patient_uuid": 1110,
                  "source": 1196,
                  "source_id": 408,
                  "still_pregnant": "no",
                  "use_cases": "use6",
                  "_deepnote_index_column": 16
                },
                {
                  "_id": 1109,
                  "birth_date": "2020-01-15",
                  "date_of_birth": "1934-04-27",
                  "error": 7,
                  "lat": 120.34,
                  "long": 30.54,
                  "message": "What time are you available?",
                  "name": "bye",
                  "patient_id": 1086,
                  "patient_uuid": 378,
                  "source": 288,
                  "source_id": 1124,
                  "still_pregnant": "no",
                  "use_cases": "use5",
                  "_deepnote_index_column": 17
                },
                {
                  "_id": 402,
                  "birth_date": "1961-05-16",
                  "date_of_birth": "1927-07-15",
                  "error": 3,
                  "lat": 120.34,
                  "long": 30.54,
                  "message": "When can I reach you?",
                  "name": "bye",
                  "patient_id": 473,
                  "patient_uuid": 316,
                  "source": 1022,
                  "source_id": 941,
                  "still_pregnant": "no",
                  "use_cases": "use5",
                  "_deepnote_index_column": 18
                },
                {
                  "_id": 1094,
                  "birth_date": "1985-07-20",
                  "date_of_birth": "1954-09-14",
                  "error": 5,
                  "lat": 120.34,
                  "long": 30.54,
                  "message": "When can I reach you?",
                  "name": "bye",
                  "patient_id": 1012,
                  "patient_uuid": 1172,
                  "source": 868,
                  "source_id": 216,
                  "still_pregnant": "no",
                  "use_cases": "use7",
                  "_deepnote_index_column": 19
                }
              ],
              "rows_bottom": null
            },
            "text/plain": "     _id  birth_date date_of_birth  error     lat   long  \\\n0     64  2019-08-27    1926-03-13    3.0  120.34  30.54   \n1    113  1998-04-10    1902-07-13    5.0  120.34  30.54   \n2    380  1998-08-10    1946-01-14    6.0  120.34  30.54   \n3   1212  1990-08-19    1920-07-07    4.0  120.34  30.54   \n4   1053  1976-10-12    1942-01-05    9.0  120.34  30.54   \n5    745  1959-11-03    1911-05-11    5.0  120.34  30.54   \n6    288  1953-11-10    1916-02-03    5.0  120.34  30.54   \n7   1166  1989-05-13    1928-06-13    2.0  120.34  30.54   \n8    595  1984-02-17    1947-03-03    6.0  120.34  30.54   \n9   1155  1965-10-26    1934-05-15    4.0  120.34  30.54   \n10  1068  1991-10-03    1938-11-21    3.0  120.34  30.54   \n11  1224  2004-03-05    1945-11-12    4.0  120.34  30.54   \n12   320  1997-08-21    1932-09-20    3.0  120.34  30.54   \n13   481  1956-02-06    1935-10-26    4.0  120.34  30.54   \n14   493  1987-07-10    1925-03-01    7.0  120.34  30.54   \n15   480  2013-06-08    1908-05-20    4.0  120.34  30.54   \n16   999  1983-01-24    1954-01-15    5.0  120.34  30.54   \n17  1109  2020-01-15    1934-04-27    7.0  120.34  30.54   \n18   402  1961-05-16    1927-07-15    3.0  120.34  30.54   \n19  1094  1985-07-20    1954-09-14    5.0  120.34  30.54   \n\n                         message name  patient_id  patient_uuid  source  \\\n0   What time are you available?  nah         989           797     469   \n1          When can I reach you?  nah         393          1093      45   \n2   What time are you available?  nah        1226           711      51   \n3          When can I reach you?  nah         104           575     160   \n4          When can I reach you?  nah         397           230     668   \n5          When can I reach you?  bye         867           593    1144   \n6          When can I reach you?  nah        1115          1228     977   \n7          When can I reach you?  nah         164           143     729   \n8   What time are you available?  bye        1197           788     960   \n9          When can I reach you?  nah         247           212    1015   \n10         When can I reach you?  bye         389           135     228   \n11  What time are you available?  bye         418           548     326   \n12  What time are you available?  nah         693           935     641   \n13  What time are you available?  nah         336           527     948   \n14  What time are you available?  bye         773           414     407   \n15  What time are you available?  bye         921           506    1149   \n16         When can I reach you?  bye         302          1110    1196   \n17  What time are you available?  bye        1086           378     288   \n18         When can I reach you?  bye         473           316    1022   \n19         When can I reach you?  bye        1012          1172     868   \n\n    source_id still_pregnant use_cases  \n0         482             no     use13  \n1         854             no     use13  \n2         560             no     use13  \n3         386             no      use3  \n4         544             no      use8  \n5        1221             no      use8  \n6         509             no      use3  \n7         907             no      use6  \n8          81             no     use12  \n9         400             no      use4  \n10        465             no      use7  \n11       1063             no      use6  \n12        239             no     use12  \n13        283             no     use15  \n14        166             no      use6  \n15        817             no      use2  \n16        408             no      use6  \n17       1124             no      use5  \n18        941             no      use5  \n19        216             no      use7  ",
            "text/html": "<div>\n<style scoped>\n    .dataframe tbody tr th:only-of-type {\n        vertical-align: middle;\n    }\n\n    .dataframe tbody tr th {\n        vertical-align: top;\n    }\n\n    .dataframe thead th {\n        text-align: right;\n    }\n</style>\n<table border=\"1\" class=\"dataframe\">\n  <thead>\n    <tr style=\"text-align: right;\">\n      <th></th>\n      <th>_id</th>\n      <th>birth_date</th>\n      <th>date_of_birth</th>\n      <th>error</th>\n      <th>lat</th>\n      <th>long</th>\n      <th>message</th>\n      <th>name</th>\n      <th>patient_id</th>\n      <th>patient_uuid</th>\n      <th>source</th>\n      <th>source_id</th>\n      <th>still_pregnant</th>\n      <th>use_cases</th>\n    </tr>\n  </thead>\n  <tbody>\n    <tr>\n      <th>0</th>\n      <td>64</td>\n      <td>2019-08-27</td>\n      <td>1926-03-13</td>\n      <td>3.0</td>\n      <td>120.34</td>\n      <td>30.54</td>\n      <td>What time are you available?</td>\n      <td>nah</td>\n      <td>989</td>\n      <td>797</td>\n      <td>469</td>\n      <td>482</td>\n      <td>no</td>\n      <td>use13</td>\n    </tr>\n    <tr>\n      <th>1</th>\n      <td>113</td>\n      <td>1998-04-10</td>\n      <td>1902-07-13</td>\n      <td>5.0</td>\n      <td>120.34</td>\n      <td>30.54</td>\n      <td>When can I reach you?</td>\n      <td>nah</td>\n      <td>393</td>\n      <td>1093</td>\n      <td>45</td>\n      <td>854</td>\n      <td>no</td>\n      <td>use13</td>\n    </tr>\n    <tr>\n      <th>2</th>\n      <td>380</td>\n      <td>1998-08-10</td>\n      <td>1946-01-14</td>\n      <td>6.0</td>\n      <td>120.34</td>\n      <td>30.54</td>\n      <td>What time are you available?</td>\n      <td>nah</td>\n      <td>1226</td>\n      <td>711</td>\n      <td>51</td>\n      <td>560</td>\n      <td>no</td>\n      <td>use13</td>\n    </tr>\n    <tr>\n      <th>3</th>\n      <td>1212</td>\n      <td>1990-08-19</td>\n      <td>1920-07-07</td>\n      <td>4.0</td>\n      <td>120.34</td>\n      <td>30.54</td>\n      <td>When can I reach you?</td>\n      <td>nah</td>\n      <td>104</td>\n      <td>575</td>\n      <td>160</td>\n      <td>386</td>\n      <td>no</td>\n      <td>use3</td>\n    </tr>\n    <tr>\n      <th>4</th>\n      <td>1053</td>\n      <td>1976-10-12</td>\n      <td>1942-01-05</td>\n      <td>9.0</td>\n      <td>120.34</td>\n      <td>30.54</td>\n      <td>When can I reach you?</td>\n      <td>nah</td>\n      <td>397</td>\n      <td>230</td>\n      <td>668</td>\n      <td>544</td>\n      <td>no</td>\n      <td>use8</td>\n    </tr>\n    <tr>\n      <th>5</th>\n      <td>745</td>\n      <td>1959-11-03</td>\n      <td>1911-05-11</td>\n      <td>5.0</td>\n      <td>120.34</td>\n      <td>30.54</td>\n      <td>When can I reach you?</td>\n      <td>bye</td>\n      <td>867</td>\n      <td>593</td>\n      <td>1144</td>\n      <td>1221</td>\n      <td>no</td>\n      <td>use8</td>\n    </tr>\n    <tr>\n      <th>6</th>\n      <td>288</td>\n      <td>1953-11-10</td>\n      <td>1916-02-03</td>\n      <td>5.0</td>\n      <td>120.34</td>\n      <td>30.54</td>\n      <td>When can I reach you?</td>\n      <td>nah</td>\n      <td>1115</td>\n      <td>1228</td>\n      <td>977</td>\n      <td>509</td>\n      <td>no</td>\n      <td>use3</td>\n    </tr>\n    <tr>\n      <th>7</th>\n      <td>1166</td>\n      <td>1989-05-13</td>\n      <td>1928-06-13</td>\n      <td>2.0</td>\n      <td>120.34</td>\n      <td>30.54</td>\n      <td>When can I reach you?</td>\n      <td>nah</td>\n      <td>164</td>\n      <td>143</td>\n      <td>729</td>\n      <td>907</td>\n      <td>no</td>\n      <td>use6</td>\n    </tr>\n    <tr>\n      <th>8</th>\n      <td>595</td>\n      <td>1984-02-17</td>\n      <td>1947-03-03</td>\n      <td>6.0</td>\n      <td>120.34</td>\n      <td>30.54</td>\n      <td>What time are you available?</td>\n      <td>bye</td>\n      <td>1197</td>\n      <td>788</td>\n      <td>960</td>\n      <td>81</td>\n      <td>no</td>\n      <td>use12</td>\n    </tr>\n    <tr>\n      <th>9</th>\n      <td>1155</td>\n      <td>1965-10-26</td>\n      <td>1934-05-15</td>\n      <td>4.0</td>\n      <td>120.34</td>\n      <td>30.54</td>\n      <td>When can I reach you?</td>\n      <td>nah</td>\n      <td>247</td>\n      <td>212</td>\n      <td>1015</td>\n      <td>400</td>\n      <td>no</td>\n      <td>use4</td>\n    </tr>\n    <tr>\n      <th>10</th>\n      <td>1068</td>\n      <td>1991-10-03</td>\n      <td>1938-11-21</td>\n      <td>3.0</td>\n      <td>120.34</td>\n      <td>30.54</td>\n      <td>When can I reach you?</td>\n      <td>bye</td>\n      <td>389</td>\n      <td>135</td>\n      <td>228</td>\n      <td>465</td>\n      <td>no</td>\n      <td>use7</td>\n    </tr>\n    <tr>\n      <th>11</th>\n      <td>1224</td>\n      <td>2004-03-05</td>\n      <td>1945-11-12</td>\n      <td>4.0</td>\n      <td>120.34</td>\n      <td>30.54</td>\n      <td>What time are you available?</td>\n      <td>bye</td>\n      <td>418</td>\n      <td>548</td>\n      <td>326</td>\n      <td>1063</td>\n      <td>no</td>\n      <td>use6</td>\n    </tr>\n    <tr>\n      <th>12</th>\n      <td>320</td>\n      <td>1997-08-21</td>\n      <td>1932-09-20</td>\n      <td>3.0</td>\n      <td>120.34</td>\n      <td>30.54</td>\n      <td>What time are you available?</td>\n      <td>nah</td>\n      <td>693</td>\n      <td>935</td>\n      <td>641</td>\n      <td>239</td>\n      <td>no</td>\n      <td>use12</td>\n    </tr>\n    <tr>\n      <th>13</th>\n      <td>481</td>\n      <td>1956-02-06</td>\n      <td>1935-10-26</td>\n      <td>4.0</td>\n      <td>120.34</td>\n      <td>30.54</td>\n      <td>What time are you available?</td>\n      <td>nah</td>\n      <td>336</td>\n      <td>527</td>\n      <td>948</td>\n      <td>283</td>\n      <td>no</td>\n      <td>use15</td>\n    </tr>\n    <tr>\n      <th>14</th>\n      <td>493</td>\n      <td>1987-07-10</td>\n      <td>1925-03-01</td>\n      <td>7.0</td>\n      <td>120.34</td>\n      <td>30.54</td>\n      <td>What time are you available?</td>\n      <td>bye</td>\n      <td>773</td>\n      <td>414</td>\n      <td>407</td>\n      <td>166</td>\n      <td>no</td>\n      <td>use6</td>\n    </tr>\n    <tr>\n      <th>15</th>\n      <td>480</td>\n      <td>2013-06-08</td>\n      <td>1908-05-20</td>\n      <td>4.0</td>\n      <td>120.34</td>\n      <td>30.54</td>\n      <td>What time are you available?</td>\n      <td>bye</td>\n      <td>921</td>\n      <td>506</td>\n      <td>1149</td>\n      <td>817</td>\n      <td>no</td>\n      <td>use2</td>\n    </tr>\n    <tr>\n      <th>16</th>\n      <td>999</td>\n      <td>1983-01-24</td>\n      <td>1954-01-15</td>\n      <td>5.0</td>\n      <td>120.34</td>\n      <td>30.54</td>\n      <td>When can I reach you?</td>\n      <td>bye</td>\n      <td>302</td>\n      <td>1110</td>\n      <td>1196</td>\n      <td>408</td>\n      <td>no</td>\n      <td>use6</td>\n    </tr>\n    <tr>\n      <th>17</th>\n      <td>1109</td>\n      <td>2020-01-15</td>\n      <td>1934-04-27</td>\n      <td>7.0</td>\n      <td>120.34</td>\n      <td>30.54</td>\n      <td>What time are you available?</td>\n      <td>bye</td>\n      <td>1086</td>\n      <td>378</td>\n      <td>288</td>\n      <td>1124</td>\n      <td>no</td>\n      <td>use5</td>\n    </tr>\n    <tr>\n      <th>18</th>\n      <td>402</td>\n      <td>1961-05-16</td>\n      <td>1927-07-15</td>\n      <td>3.0</td>\n      <td>120.34</td>\n      <td>30.54</td>\n      <td>When can I reach you?</td>\n      <td>bye</td>\n      <td>473</td>\n      <td>316</td>\n      <td>1022</td>\n      <td>941</td>\n      <td>no</td>\n      <td>use5</td>\n    </tr>\n    <tr>\n      <th>19</th>\n      <td>1094</td>\n      <td>1985-07-20</td>\n      <td>1954-09-14</td>\n      <td>5.0</td>\n      <td>120.34</td>\n      <td>30.54</td>\n      <td>When can I reach you?</td>\n      <td>bye</td>\n      <td>1012</td>\n      <td>1172</td>\n      <td>868</td>\n      <td>216</td>\n      <td>no</td>\n      <td>use7</td>\n    </tr>\n  </tbody>\n</table>\n</div>"
          },
          "metadata": {}
        }
      ]
    },
    {
      "cell_type": "code",
      "metadata": {
        "tags": [],
        "cell_id": "00012-0769b2c7-30ef-4935-a812-94e0ca314e67",
        "deepnote_cell_type": "code"
      },
      "source": "",
      "execution_count": null,
      "outputs": []
    },
    {
      "cell_type": "code",
      "metadata": {
        "tags": [],
        "cell_id": "00007-7a7c2f90-6851-486b-918f-f5cba1cbb16b",
        "deepnote_to_be_reexecuted": false,
        "source_hash": "bf2cce3b",
        "execution_millis": 8,
        "execution_start": 1619059523104,
        "deepnote_cell_type": "code"
      },
      "source": "def to_integer(dt_time):\n    return 1*dt_time.year\n\nbirthdate = datetime.date(np.random.randint(1920, 2000), np.random.randint(1, 12), np.random.randint(1, 28))\ndeathdate = datetime.date(np.random.randint(1920, 2000), np.random.randint(1, 12), np.random.randint(1, 28))\n    \nprint(to_integer(deathdate), to_integer(birthdate))",
      "execution_count": null,
      "outputs": [
        {
          "name": "stdout",
          "text": "1942 1940\n",
          "output_type": "stream"
        }
      ]
    },
    {
      "cell_type": "code",
      "metadata": {
        "tags": [],
        "cell_id": "00012-6104223c-e45d-4299-b0ac-31140a93468a",
        "deepnote_to_be_reexecuted": false,
        "source_hash": "dd091d5f",
        "execution_millis": 235,
        "execution_start": 1619061491998,
        "deepnote_cell_type": "code"
      },
      "source": "from os import walk\ndef generate_all_yamls(yaml_directory):\n    returned = []\n\n    for root, dirs, files in walk(yaml_directory):\n        for filename in files:\n            if \".yaml\" in filename:\n                try:\n                    returned.append(datagen(yaml_directory, filename))\n                except:\n                    returned.append({filename: \"generation failed\"})\n    return returned\n\ngenerate_all_yamls(\"../yaml-files/\")\n#datagen(\"../yaml-files/\", \"properdelivery.yaml\")",
      "execution_count": null,
      "outputs": [
        {
          "output_type": "execute_result",
          "execution_count": 121,
          "data": {
            "text/plain": "[None,\n {'pregnancy_danger_sign.yaml': 'generation failed'},\n {'deliveryTest.yaml': 'generation failed'},\n None,\n {'pnc_danger_sign_follow_up_mother.yaml': 'generation failed'},\n {'death_report.yaml': 'generation failed'},\n None]"
          },
          "metadata": {}
        }
      ]
    },
    {
      "cell_type": "code",
      "metadata": {
        "tags": [],
        "cell_id": "00013-286b9926-77af-4eba-b965-2d80dea129eb",
        "deepnote_to_be_reexecuted": false,
        "source_hash": "a760a4c6",
        "execution_millis": 19,
        "execution_start": 1619060302123,
        "deepnote_cell_type": "code"
      },
      "source": "",
      "execution_count": null,
      "outputs": [
        {
          "output_type": "error",
          "ename": "FileNotFoundError",
          "evalue": "[Errno 2] No such file or directory: '../yaml-files/default/default_province.txt'",
          "traceback": [
            "\u001b[0;31m---------------------------------------------------------------------------\u001b[0m",
            "\u001b[0;31mFileNotFoundError\u001b[0m                         Traceback (most recent call last)",
            "\u001b[0;32m<ipython-input-76-a8ae05c6c8fa>\u001b[0m in \u001b[0;36m<module>\u001b[0;34m\u001b[0m\n\u001b[0;32m----> 1\u001b[0;31m \u001b[0mopen\u001b[0m\u001b[0;34m(\u001b[0m\u001b[0;34m\"../yaml-files/default/default_province.txt\"\u001b[0m\u001b[0;34m)\u001b[0m\u001b[0;34m\u001b[0m\u001b[0;34m\u001b[0m\u001b[0m\n\u001b[0m",
            "\u001b[0;31mFileNotFoundError\u001b[0m: [Errno 2] No such file or directory: '../yaml-files/default/default_province.txt'"
          ]
        }
      ]
    },
    {
      "cell_type": "code",
      "metadata": {
        "tags": [],
        "cell_id": "00015-67e8f86f-c1d9-4d67-8d6c-c994fca77304",
        "deepnote_cell_type": "code"
      },
      "source": "",
      "execution_count": null,
      "outputs": []
    },
    {
      "cell_type": "markdown",
      "source": "<a style='text-decoration:none;line-height:16px;display:flex;color:#5B5B62;padding:10px;justify-content:end;' href='https://deepnote.com?utm_source=created-in-deepnote-cell&projectId=59003b3a-4258-4703-b30d-75642543bba1' target=\"_blank\">\n<img alt='Created in deepnote.com' style='display:inline;max-height:16px;margin:0px;margin-right:7.5px;' src='data:image/svg+xml;base64,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' > </img>\nCreated in <span style='font-weight:600;margin-left:4px;'>Deepnote</span></a>",
      "metadata": {
        "tags": [],
        "created_in_deepnote_cell": true,
        "deepnote_cell_type": "markdown"
      }
    }
  ],
  "nbformat": 4,
  "nbformat_minor": 2,
  "metadata": {
    "orig_nbformat": 2,
    "deepnote": {
      "is_reactive": false
    },
    "deepnote_notebook_id": "56fe02cc-48aa-46db-9e7a-354e7bdc62cd",
    "deepnote_execution_queue": []
  }
}