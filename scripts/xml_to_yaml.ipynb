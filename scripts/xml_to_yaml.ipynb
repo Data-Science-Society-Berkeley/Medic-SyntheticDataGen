{
  "cells": [
    {
      "cell_type": "code",
      "metadata": {
        "tags": [],
        "cell_id": "00000-4d240501-3f71-4017-ba65-c3778d7e9ab2",
        "deepnote_to_be_reexecuted": false,
        "source_hash": "b623e53d",
        "execution_start": 1619061312244,
        "execution_millis": 0,
        "deepnote_cell_type": "code"
      },
      "source": "",
      "execution_count": 0,
      "outputs": []
    },
    {
      "cell_type": "code",
      "metadata": {
        "tags": [],
        "cell_id": "00000-ed6e7ad6-c23d-4c08-a328-5672ab9a30ae",
        "deepnote_to_be_reexecuted": false,
        "source_hash": "fcaad9e5",
        "execution_millis": 0,
        "execution_start": 1619061312245,
        "deepnote_cell_type": "code"
      },
      "source": "import xml.etree.ElementTree as ET #Element Tree XML parsing library\nimport re #Regex library\nimport yaml\nfrom collections import OrderedDict\nfrom yaml import load, dump\ntry:\n    from yaml import CLoader as Loader, CDumper as Dumper\nexcept ImportError:\n    from yaml import Loader, Dumper",
      "execution_count": null,
      "outputs": []
    },
    {
      "cell_type": "code",
      "metadata": {
        "tags": [],
        "cell_id": "00005-fc4d4789-d043-4324-9af4-7934be7991f7",
        "deepnote_to_be_reexecuted": false,
        "source_hash": "c11b191e",
        "execution_millis": 0,
        "execution_start": 1619061312288,
        "deepnote_cell_type": "code"
      },
      "source": "def yaml_creator(filename, path = \"../xml-files/\", destination=\"../yaml-files/\"):   \n    assert '.xml' in filename[-4:]\n    parsed_fields = xmlParse(path + filename)\n    \n    #pairs = [(field, {'constraints': None, 'distribution': None, 'type': None}) for field in parsed_fields]\n    keyvalue_pairs = {}\n    for field in parsed_fields:\n        keyvalue_pairs[field] = {'constraints': None, 'distribution': None, 'type': None}\n    output = yaml.dump(keyvalue_pairs, explicit_start=True, default_flow_style=False, sort_keys=False)\n    output = \"\\n\".join(output.split(\"\\n\",2)[1:])\n    \n    try:\n        file_test = open(destination + filename[:-4] + \".yaml\", \"r\") # attempt to read the directory first\n    \n    except FileNotFoundError: # if there is no file with the given filename, then proceed\n        file_object = open(destination + filename[:-4] + \".yaml\", \"w+\") # w+ means read and write\n        file_object.write(\"---\\nrows:\\n\")\n        file_object.write(output) # write to file\n        file_object.close() # close file\n        return\n\n    file_test.close() # if we get here, there was already a file\n    raise MemoryError(path + 'File ' + filename[:-4] + '''.yaml already exists in the current working directory. To avoid overwriting, aborting process.''')\n\n",
      "execution_count": null,
      "outputs": []
    },
    {
      "cell_type": "code",
      "metadata": {
        "tags": [],
        "cell_id": "00007-d2d87247-aec0-4c44-a93f-1a3b95e52c85",
        "deepnote_to_be_reexecuted": false,
        "source_hash": "f8280626",
        "execution_millis": 37,
        "execution_start": 1619062028772,
        "deepnote_cell_type": "code"
      },
      "source": "# @params\n#   root: root of an ElementTree\n#   columns: empty array to store column names\n# Fills the columns array with column names\ndef dfs(root, columns):\n    if root.getchildren() == []:\n        columns.append(root)\n    for child in root.getchildren():\n        dfs(child, columns)\n\n# @param root: root of the tree\n# Outputs the node containing the 'instance' tag which is the start of the data form\ndef findInstanceTag(root):\n    results = []\n    if ('instance' in root.tag):\n        return root\n    for child in root.getchildren():\n        tagElement = root.find(child.tag)\n        results.append(findInstanceTag(tagElement))\n        for node in results:\n            if node is not None:\n                return node\n    \n# @param columns: array of column names\n# Outputs a new array of column names stripped of their xmlns tags \ndef cleanColumnNames(columns):\n    xmlns_re = \"({.+})\"\n    cleaned_columns = [re.sub(xmlns_re, '', name.tag) for name in columns]\n    return cleaned_columns\n\ndef xmlParse(fileName):\n    inputFile = fileName #insert xml file name\n    parser = ET.parse(inputFile) #initialize the ElementTree parser\n    root = parser.getroot() #Find the root of the tree, the <html> tag\n    form = findInstanceTag(root) #find the instances tag - this is the start of the data\n    columns = [] #initialize empty array to store the column names\n    dfs(form, columns) #extract column names with DFS\n    return cleanColumnNames(columns) #clean the columns and return\n\nimport os \n\ndef dirIterator(directory = \"../xml-files\"):\n    for filename in os.listdir(directory):\n        if filename.endswith('.xml'):\n            yaml_creator(filename)\n        else:\n            continue\n\n#xmlParse('xml-files/death_report.xml')\ndirIterator('../xml-files')\n",
      "execution_count": null,
      "outputs": [
        {
          "name": "stderr",
          "text": "/shared-libs/python3.7/py-core/lib/python3.7/site-packages/ipykernel_launcher.py:17: DeprecationWarning: This method will be removed in future versions.  Use 'list(elem)' or iteration over elem instead.\n/shared-libs/python3.7/py-core/lib/python3.7/site-packages/ipykernel_launcher.py:6: DeprecationWarning: This method will be removed in future versions.  Use 'list(elem)' or iteration over elem instead.\n  \n/shared-libs/python3.7/py-core/lib/python3.7/site-packages/ipykernel_launcher.py:8: DeprecationWarning: This method will be removed in future versions.  Use 'list(elem)' or iteration over elem instead.\n  \n",
          "output_type": "stream"
        }
      ]
    },
    {
      "cell_type": "code",
      "metadata": {
        "tags": [],
        "cell_id": "00005-de0914c0-e649-4ddf-bcdf-94f72050d7d7",
        "deepnote_to_be_reexecuted": true,
        "source_hash": "da3078fc",
        "deepnote_cell_type": "code"
      },
      "source": "yaml_creator(\"death_report.xml\")",
      "execution_count": null,
      "outputs": []
    },
    {
      "cell_type": "code",
      "metadata": {
        "tags": [],
        "cell_id": "00005-b3a635a0-54af-4bf6-a617-8436e7f9dcd1",
        "deepnote_to_be_reexecuted": true,
        "source_hash": "b623e53d",
        "deepnote_cell_type": "code"
      },
      "source": "",
      "execution_count": null,
      "outputs": []
    },
    {
      "cell_type": "markdown",
      "source": "<a style='text-decoration:none;line-height:16px;display:flex;color:#5B5B62;padding:10px;justify-content:end;' href='https://deepnote.com?utm_source=created-in-deepnote-cell&projectId=59003b3a-4258-4703-b30d-75642543bba1' target=\"_blank\">\n<img alt='Created in deepnote.com' style='display:inline;max-height:16px;margin:0px;margin-right:7.5px;' src='data:image/svg+xml;base64,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' > </img>\nCreated in <span style='font-weight:600;margin-left:4px;'>Deepnote</span></a>",
      "metadata": {
        "tags": [],
        "created_in_deepnote_cell": true,
        "deepnote_cell_type": "markdown"
      }
    }
  ],
  "nbformat": 4,
  "nbformat_minor": 2,
  "metadata": {
    "orig_nbformat": 2,
    "deepnote_notebook_id": "1fc52e99-2565-4246-b79d-5a1a611b07c0",
    "deepnote": {},
    "deepnote_execution_queue": []
  }
}