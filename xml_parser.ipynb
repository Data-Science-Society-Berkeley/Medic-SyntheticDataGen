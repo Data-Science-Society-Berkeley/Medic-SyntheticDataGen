{
  "cells": [
    {
      "cell_type": "code",
      "metadata": {
        "tags": [],
        "cell_id": "00004-ea3b587f-835e-4222-b0a1-e1fdddf49c8a",
        "deepnote_to_be_reexecuted": false,
        "source_hash": "1b2b98cd",
        "execution_millis": 5,
        "execution_start": 1614829100661,
        "deepnote_cell_type": "code"
      },
      "source": "import xml.dom.minidom\nimport pandas as pd",
      "outputs": [],
      "execution_count": null
    },
    {
      "cell_type": "markdown",
      "source": "XML Parsing with Python\nTwo useful links:\nhttps://www.guru99.com/manipulating-xml-with-python.html#2\nhttps://www.geeksforgeeks.org/xml-parsing-python/\n\n* To get values 'name' column in death_report.xlsx, need to list values under <instance> in death_report.xml",
      "metadata": {
        "tags": [],
        "cell_id": "00001-6c56610f-1352-43c1-8869-132fe7179b41",
        "deepnote_cell_type": "markdown"
      }
    },
    {
      "cell_type": "markdown",
      "source": "Functions for XML file parsing:",
      "metadata": {
        "tags": [],
        "cell_id": "00003-6871c398-80b1-4080-b707-1463348ce686",
        "deepnote_cell_type": "markdown"
      }
    },
    {
      "cell_type": "code",
      "metadata": {
        "tags": [],
        "cell_id": "00004-eda7d557-9a07-43ea-9486-194c5c83df40",
        "deepnote_to_be_reexecuted": false,
        "source_hash": "e0fca050",
        "execution_millis": 16,
        "execution_start": 1614829100667,
        "deepnote_cell_type": "code"
      },
      "source": "def main():\n    # use the parse() function to load and parse an XML file\n    doc = xml.dom.minidom.parse(\"death_report.xml\");\n\n    # print out the document node and the name of the first child tag\n    print (doc.nodeName)\n    print (doc.firstChild.tagName)\n    # # get a list of XML tags from the document and print each one\n    instance = doc.getElementsByTagName(\"instance\")\n    print (\"%d column names:\" % instance.length)\n    for skill in instance:\n        print (skill.getAttribute(\"name\"))\n\n    # # create a new XML tag and add it into the document\n    # newexpertise = doc.createElement(\"expertise\")\n    # newexpertise.setAttribute(\"name\", \"BigData\")\n    # doc.firstChild.appendChild(newexpertise)\n    # print (\" \")\n\n    # expertise = doc.getElementsByTagName(\"expertise\")\n    # print (\"%d expertise:\" % expertise.length)\n    # for skill in expertise:\n    #     print (skill.getAttribute(\"name\"))\n\nif __name__ == \"__main__\":\n    main();",
      "outputs": [
        {
          "name": "stdout",
          "text": "#document\nh:html\n2 column names:\n\n\n",
          "output_type": "stream"
        }
      ],
      "execution_count": null
    },
    {
      "cell_type": "code",
      "metadata": {
        "tags": [],
        "cell_id": "00007-91cb4cc1-79e0-40be-a3ec-3c86776f723e",
        "deepnote_to_be_reexecuted": false,
        "source_hash": "21636c8c",
        "execution_millis": 55,
        "execution_start": 1614829100680,
        "deepnote_cell_type": "code"
      },
      "source": "#Hi this block retrieves the XML tags in a list -Ingrid\nimport xml.etree.ElementTree as et\n\nxmlTree = et.parse(\"death_report.xml\")\ntags = [elem.tag for elem in xmlTree.iter()]\n\n#for x in tags:\n     #print(x.split(\"}\")[1])\n\ntags = [elem.split(\"}\")[1] for elem in tags]\ntags\n",
      "outputs": [
        {
          "output_type": "execute_result",
          "execution_count": 3,
          "data": {
            "text/plain": "['html',\n 'head',\n 'title',\n 'model',\n 'itext',\n 'translation',\n 'text',\n 'value',\n 'text',\n 'value',\n 'text',\n 'value',\n 'output',\n 'text',\n 'value',\n 'text',\n 'value',\n 'text',\n 'value',\n 'text',\n 'value',\n 'output',\n 'text',\n 'value',\n 'text',\n 'value',\n 'output',\n 'output',\n 'output',\n 'text',\n 'value',\n 'output',\n 'text',\n 'value',\n 'text',\n 'value',\n 'text',\n 'value',\n 'text',\n 'value',\n 'text',\n 'value',\n 'text',\n 'value',\n 'text',\n 'value',\n 'text',\n 'value',\n 'text',\n 'value',\n 'text',\n 'value',\n 'text',\n 'value',\n 'text',\n 'value',\n 'text',\n 'value',\n 'text',\n 'value',\n 'text',\n 'value',\n 'instance',\n 'death_report',\n 'inputs',\n 'meta',\n 'location',\n 'lat',\n 'long',\n 'error',\n 'message',\n 'source',\n 'source_id',\n 'contact',\n '_id',\n 'name',\n 'short_name',\n 'patient_id',\n 'date_of_birth',\n 'sex',\n 'parent',\n 'parent',\n 'contact',\n 'name',\n 'phone',\n 'patient_age_in_years',\n 'patient_age_in_months',\n 'patient_age_in_days',\n 'patient_uuid',\n 'patient_id',\n 'patient_name',\n 'patient_short_name',\n 'patient_display_name',\n 'death_details',\n 'date_of_death',\n 'place_of_death',\n 'place_of_death_other',\n 'death_information',\n 'group_review',\n 'submit',\n 'r_summary_details',\n 'c_patient_age',\n 'r_patient_details',\n 'r_death_info',\n 'r_key_instruction',\n 'blank_note',\n 'r_referral',\n 'r_undo',\n 'data',\n '__date_of_death',\n '__place_of_death',\n '__place_of_death_other',\n '__death_information',\n 'meta',\n '__patient_uuid',\n '__patient_id',\n '__household_uuid',\n '__source',\n '__source_id',\n 'meta',\n 'instanceID',\n 'instance',\n 'bind',\n 'bind',\n 'bind',\n 'bind',\n 'bind',\n 'bind',\n 'bind',\n 'bind',\n 'bind',\n 'bind',\n 'bind',\n 'bind',\n 'bind',\n 'bind',\n 'bind',\n 'bind',\n 'bind',\n 'bind',\n 'bind',\n 'bind',\n 'bind',\n 'bind',\n 'bind',\n 'bind',\n 'bind',\n 'bind',\n 'bind',\n 'bind',\n 'bind',\n 'bind',\n 'bind',\n 'bind',\n 'bind',\n 'bind',\n 'bind',\n 'bind',\n 'bind',\n 'bind',\n 'bind',\n 'bind',\n 'bind',\n 'bind',\n 'body',\n 'group',\n 'group',\n 'label',\n 'input',\n 'label',\n 'group',\n 'group',\n 'group',\n 'label',\n 'group',\n 'label',\n 'input',\n 'label',\n 'select1',\n 'label',\n 'item',\n 'label',\n 'value',\n 'item',\n 'label',\n 'value',\n 'item',\n 'label',\n 'value',\n 'input',\n 'label',\n 'input',\n 'label',\n 'group',\n 'input',\n 'label',\n 'input',\n 'label',\n 'input',\n 'label',\n 'input',\n 'label',\n 'input',\n 'label',\n 'input',\n 'input',\n 'label',\n 'input',\n 'label',\n 'group',\n 'group']"
          },
          "metadata": {}
        }
      ],
      "execution_count": null
    },
    {
      "cell_type": "code",
      "metadata": {
        "tags": [],
        "cell_id": "00006-bfe9770e-dbbb-46b2-85e6-7fec13b01a6e",
        "deepnote_to_be_reexecuted": false,
        "source_hash": "7efa3e79",
        "execution_millis": 78,
        "execution_start": 1614829100964,
        "deepnote_cell_type": "code"
      },
      "source": "pd.DataFrame(columns = tags)",
      "outputs": [
        {
          "output_type": "execute_result",
          "execution_count": 4,
          "data": {
            "application/vnd.deepnote.dataframe.v2+json": {
              "row_count": 0,
              "column_count": 211,
              "columns": [
                {
                  "name": "html",
                  "dtype": "object",
                  "stats": {
                    "unique_count": 0,
                    "nan_count": 0,
                    "categories": []
                  }
                },
                {
                  "name": "head",
                  "dtype": "object",
                  "stats": {
                    "unique_count": 0,
                    "nan_count": 0,
                    "categories": []
                  }
                },
                {
                  "name": "title",
                  "dtype": "object",
                  "stats": {
                    "unique_count": 0,
                    "nan_count": 0,
                    "categories": []
                  }
                },
                {
                  "name": "model",
                  "dtype": "object",
                  "stats": {
                    "unique_count": 0,
                    "nan_count": 0,
                    "categories": []
                  }
                },
                {
                  "name": "itext",
                  "dtype": "object",
                  "stats": {
                    "unique_count": 0,
                    "nan_count": 0,
                    "categories": []
                  }
                },
                {
                  "name": "translation",
                  "dtype": "object",
                  "stats": {
                    "unique_count": 0,
                    "nan_count": 0,
                    "categories": []
                  }
                },
                {
                  "name": "text",
                  "dtype": "object",
                  "stats": {
                    "unique_count": 0,
                    "nan_count": 0,
                    "categories": []
                  }
                },
                {
                  "name": "value",
                  "dtype": "object",
                  "stats": {
                    "unique_count": 0,
                    "nan_count": 0,
                    "categories": []
                  }
                },
                {
                  "name": "text.1",
                  "dtype": "object",
                  "stats": {
                    "unique_count": 0,
                    "nan_count": 0,
                    "categories": []
                  }
                },
                {
                  "name": "value.1",
                  "dtype": "object",
                  "stats": {
                    "unique_count": 0,
                    "nan_count": 0,
                    "categories": []
                  }
                },
                {
                  "name": "text.2",
                  "dtype": "object",
                  "stats": {
                    "unique_count": 0,
                    "nan_count": 0,
                    "categories": []
                  }
                },
                {
                  "name": "value.2",
                  "dtype": "object",
                  "stats": {
                    "unique_count": 0,
                    "nan_count": 0,
                    "categories": []
                  }
                },
                {
                  "name": "output",
                  "dtype": "object",
                  "stats": {
                    "unique_count": 0,
                    "nan_count": 0,
                    "categories": []
                  }
                },
                {
                  "name": "text.3",
                  "dtype": "object",
                  "stats": {
                    "unique_count": 0,
                    "nan_count": 0,
                    "categories": []
                  }
                },
                {
                  "name": "value.3",
                  "dtype": "object",
                  "stats": {
                    "unique_count": 0,
                    "nan_count": 0,
                    "categories": []
                  }
                },
                {
                  "name": "text.4",
                  "dtype": "object",
                  "stats": {
                    "unique_count": 0,
                    "nan_count": 0,
                    "categories": []
                  }
                },
                {
                  "name": "value.4",
                  "dtype": "object",
                  "stats": {
                    "unique_count": 0,
                    "nan_count": 0,
                    "categories": []
                  }
                },
                {
                  "name": "text.5",
                  "dtype": "object",
                  "stats": {
                    "unique_count": 0,
                    "nan_count": 0,
                    "categories": []
                  }
                },
                {
                  "name": "value.5",
                  "dtype": "object",
                  "stats": {
                    "unique_count": 0,
                    "nan_count": 0,
                    "categories": []
                  }
                },
                {
                  "name": "text.6",
                  "dtype": "object",
                  "stats": {
                    "unique_count": 0,
                    "nan_count": 0,
                    "categories": []
                  }
                },
                {
                  "name": "value.6",
                  "dtype": "object",
                  "stats": {
                    "unique_count": 0,
                    "nan_count": 0,
                    "categories": []
                  }
                },
                {
                  "name": "output.1",
                  "dtype": "object",
                  "stats": {
                    "unique_count": 0,
                    "nan_count": 0,
                    "categories": []
                  }
                },
                {
                  "name": "text.7",
                  "dtype": "object",
                  "stats": {
                    "unique_count": 0,
                    "nan_count": 0,
                    "categories": []
                  }
                },
                {
                  "name": "value.7",
                  "dtype": "object",
                  "stats": {
                    "unique_count": 0,
                    "nan_count": 0,
                    "categories": []
                  }
                },
                {
                  "name": "text.8",
                  "dtype": "object",
                  "stats": {
                    "unique_count": 0,
                    "nan_count": 0,
                    "categories": []
                  }
                },
                {
                  "name": "value.8",
                  "dtype": "object",
                  "stats": {
                    "unique_count": 0,
                    "nan_count": 0,
                    "categories": []
                  }
                },
                {
                  "name": "output.2",
                  "dtype": "object",
                  "stats": {
                    "unique_count": 0,
                    "nan_count": 0,
                    "categories": []
                  }
                },
                {
                  "name": "output.3",
                  "dtype": "object",
                  "stats": {
                    "unique_count": 0,
                    "nan_count": 0,
                    "categories": []
                  }
                },
                {
                  "name": "output.4",
                  "dtype": "object",
                  "stats": {
                    "unique_count": 0,
                    "nan_count": 0,
                    "categories": []
                  }
                },
                {
                  "name": "text.9",
                  "dtype": "object",
                  "stats": {
                    "unique_count": 0,
                    "nan_count": 0,
                    "categories": []
                  }
                },
                {
                  "name": "value.9",
                  "dtype": "object",
                  "stats": {
                    "unique_count": 0,
                    "nan_count": 0,
                    "categories": []
                  }
                },
                {
                  "name": "output.5",
                  "dtype": "object",
                  "stats": {
                    "unique_count": 0,
                    "nan_count": 0,
                    "categories": []
                  }
                },
                {
                  "name": "text.10",
                  "dtype": "object",
                  "stats": {
                    "unique_count": 0,
                    "nan_count": 0,
                    "categories": []
                  }
                },
                {
                  "name": "value.10",
                  "dtype": "object",
                  "stats": {
                    "unique_count": 0,
                    "nan_count": 0,
                    "categories": []
                  }
                },
                {
                  "name": "text.11",
                  "dtype": "object",
                  "stats": {
                    "unique_count": 0,
                    "nan_count": 0,
                    "categories": []
                  }
                },
                {
                  "name": "value.11",
                  "dtype": "object",
                  "stats": {
                    "unique_count": 0,
                    "nan_count": 0,
                    "categories": []
                  }
                },
                {
                  "name": "text.12",
                  "dtype": "object",
                  "stats": {
                    "unique_count": 0,
                    "nan_count": 0,
                    "categories": []
                  }
                },
                {
                  "name": "value.12",
                  "dtype": "object",
                  "stats": {
                    "unique_count": 0,
                    "nan_count": 0,
                    "categories": []
                  }
                },
                {
                  "name": "text.13",
                  "dtype": "object",
                  "stats": {
                    "unique_count": 0,
                    "nan_count": 0,
                    "categories": []
                  }
                },
                {
                  "name": "value.13",
                  "dtype": "object",
                  "stats": {
                    "unique_count": 0,
                    "nan_count": 0,
                    "categories": []
                  }
                },
                {
                  "name": "text.14",
                  "dtype": "object",
                  "stats": {
                    "unique_count": 0,
                    "nan_count": 0,
                    "categories": []
                  }
                },
                {
                  "name": "value.14",
                  "dtype": "object",
                  "stats": {
                    "unique_count": 0,
                    "nan_count": 0,
                    "categories": []
                  }
                },
                {
                  "name": "text.15",
                  "dtype": "object",
                  "stats": {
                    "unique_count": 0,
                    "nan_count": 0,
                    "categories": []
                  }
                },
                {
                  "name": "value.15",
                  "dtype": "object",
                  "stats": {
                    "unique_count": 0,
                    "nan_count": 0,
                    "categories": []
                  }
                },
                {
                  "name": "text.16",
                  "dtype": "object",
                  "stats": {
                    "unique_count": 0,
                    "nan_count": 0,
                    "categories": []
                  }
                },
                {
                  "name": "value.16",
                  "dtype": "object",
                  "stats": {
                    "unique_count": 0,
                    "nan_count": 0,
                    "categories": []
                  }
                },
                {
                  "name": "text.17",
                  "dtype": "object",
                  "stats": {
                    "unique_count": 0,
                    "nan_count": 0,
                    "categories": []
                  }
                },
                {
                  "name": "value.17",
                  "dtype": "object",
                  "stats": {
                    "unique_count": 0,
                    "nan_count": 0,
                    "categories": []
                  }
                },
                {
                  "name": "text.18",
                  "dtype": "object",
                  "stats": {
                    "unique_count": 0,
                    "nan_count": 0,
                    "categories": []
                  }
                },
                {
                  "name": "value.18",
                  "dtype": "object",
                  "stats": {
                    "unique_count": 0,
                    "nan_count": 0,
                    "categories": []
                  }
                },
                {
                  "name": "text.19",
                  "dtype": "object",
                  "stats": {
                    "unique_count": 0,
                    "nan_count": 0,
                    "categories": []
                  }
                },
                {
                  "name": "value.19",
                  "dtype": "object",
                  "stats": {
                    "unique_count": 0,
                    "nan_count": 0,
                    "categories": []
                  }
                },
                {
                  "name": "text.20",
                  "dtype": "object",
                  "stats": {
                    "unique_count": 0,
                    "nan_count": 0,
                    "categories": []
                  }
                },
                {
                  "name": "value.20",
                  "dtype": "object",
                  "stats": {
                    "unique_count": 0,
                    "nan_count": 0,
                    "categories": []
                  }
                },
                {
                  "name": "text.21",
                  "dtype": "object",
                  "stats": {
                    "unique_count": 0,
                    "nan_count": 0,
                    "categories": []
                  }
                },
                {
                  "name": "value.21",
                  "dtype": "object",
                  "stats": {
                    "unique_count": 0,
                    "nan_count": 0,
                    "categories": []
                  }
                },
                {
                  "name": "text.22",
                  "dtype": "object",
                  "stats": {
                    "unique_count": 0,
                    "nan_count": 0,
                    "categories": []
                  }
                },
                {
                  "name": "value.22",
                  "dtype": "object",
                  "stats": {
                    "unique_count": 0,
                    "nan_count": 0,
                    "categories": []
                  }
                },
                {
                  "name": "text.23",
                  "dtype": "object",
                  "stats": {
                    "unique_count": 0,
                    "nan_count": 0,
                    "categories": []
                  }
                },
                {
                  "name": "value.23",
                  "dtype": "object",
                  "stats": {
                    "unique_count": 0,
                    "nan_count": 0,
                    "categories": []
                  }
                },
                {
                  "name": "text.24",
                  "dtype": "object",
                  "stats": {
                    "unique_count": 0,
                    "nan_count": 0,
                    "categories": []
                  }
                },
                {
                  "name": "value.24",
                  "dtype": "object",
                  "stats": {
                    "unique_count": 0,
                    "nan_count": 0,
                    "categories": []
                  }
                },
                {
                  "name": "instance",
                  "dtype": "object",
                  "stats": {
                    "unique_count": 0,
                    "nan_count": 0,
                    "categories": []
                  }
                },
                {
                  "name": "death_report",
                  "dtype": "object",
                  "stats": {
                    "unique_count": 0,
                    "nan_count": 0,
                    "categories": []
                  }
                },
                {
                  "name": "inputs",
                  "dtype": "object",
                  "stats": {
                    "unique_count": 0,
                    "nan_count": 0,
                    "categories": []
                  }
                },
                {
                  "name": "meta",
                  "dtype": "object",
                  "stats": {
                    "unique_count": 0,
                    "nan_count": 0,
                    "categories": []
                  }
                },
                {
                  "name": "location",
                  "dtype": "object",
                  "stats": {
                    "unique_count": 0,
                    "nan_count": 0,
                    "categories": []
                  }
                },
                {
                  "name": "lat",
                  "dtype": "object",
                  "stats": {
                    "unique_count": 0,
                    "nan_count": 0,
                    "categories": []
                  }
                },
                {
                  "name": "long",
                  "dtype": "object",
                  "stats": {
                    "unique_count": 0,
                    "nan_count": 0,
                    "categories": []
                  }
                },
                {
                  "name": "error",
                  "dtype": "object",
                  "stats": {
                    "unique_count": 0,
                    "nan_count": 0,
                    "categories": []
                  }
                },
                {
                  "name": "message",
                  "dtype": "object",
                  "stats": {
                    "unique_count": 0,
                    "nan_count": 0,
                    "categories": []
                  }
                },
                {
                  "name": "source",
                  "dtype": "object",
                  "stats": {
                    "unique_count": 0,
                    "nan_count": 0,
                    "categories": []
                  }
                },
                {
                  "name": "source_id",
                  "dtype": "object",
                  "stats": {
                    "unique_count": 0,
                    "nan_count": 0,
                    "categories": []
                  }
                },
                {
                  "name": "contact",
                  "dtype": "object",
                  "stats": {
                    "unique_count": 0,
                    "nan_count": 0,
                    "categories": []
                  }
                },
                {
                  "name": "_id",
                  "dtype": "object",
                  "stats": {
                    "unique_count": 0,
                    "nan_count": 0,
                    "categories": []
                  }
                },
                {
                  "name": "name",
                  "dtype": "object",
                  "stats": {
                    "unique_count": 0,
                    "nan_count": 0,
                    "categories": []
                  }
                },
                {
                  "name": "short_name",
                  "dtype": "object",
                  "stats": {
                    "unique_count": 0,
                    "nan_count": 0,
                    "categories": []
                  }
                },
                {
                  "name": "patient_id",
                  "dtype": "object",
                  "stats": {
                    "unique_count": 0,
                    "nan_count": 0,
                    "categories": []
                  }
                },
                {
                  "name": "date_of_birth",
                  "dtype": "object",
                  "stats": {
                    "unique_count": 0,
                    "nan_count": 0,
                    "categories": []
                  }
                },
                {
                  "name": "sex",
                  "dtype": "object",
                  "stats": {
                    "unique_count": 0,
                    "nan_count": 0,
                    "categories": []
                  }
                },
                {
                  "name": "parent",
                  "dtype": "object",
                  "stats": {
                    "unique_count": 0,
                    "nan_count": 0,
                    "categories": []
                  }
                },
                {
                  "name": "parent.1",
                  "dtype": "object",
                  "stats": {
                    "unique_count": 0,
                    "nan_count": 0,
                    "categories": []
                  }
                },
                {
                  "name": "contact.1",
                  "dtype": "object",
                  "stats": {
                    "unique_count": 0,
                    "nan_count": 0,
                    "categories": []
                  }
                },
                {
                  "name": "name.1",
                  "dtype": "object",
                  "stats": {
                    "unique_count": 0,
                    "nan_count": 0,
                    "categories": []
                  }
                },
                {
                  "name": "phone",
                  "dtype": "object",
                  "stats": {
                    "unique_count": 0,
                    "nan_count": 0,
                    "categories": []
                  }
                },
                {
                  "name": "patient_age_in_years",
                  "dtype": "object",
                  "stats": {
                    "unique_count": 0,
                    "nan_count": 0,
                    "categories": []
                  }
                },
                {
                  "name": "patient_age_in_months",
                  "dtype": "object",
                  "stats": {
                    "unique_count": 0,
                    "nan_count": 0,
                    "categories": []
                  }
                },
                {
                  "name": "patient_age_in_days",
                  "dtype": "object",
                  "stats": {
                    "unique_count": 0,
                    "nan_count": 0,
                    "categories": []
                  }
                },
                {
                  "name": "patient_uuid",
                  "dtype": "object",
                  "stats": {
                    "unique_count": 0,
                    "nan_count": 0,
                    "categories": []
                  }
                },
                {
                  "name": "patient_id.1",
                  "dtype": "object",
                  "stats": {
                    "unique_count": 0,
                    "nan_count": 0,
                    "categories": []
                  }
                },
                {
                  "name": "patient_name",
                  "dtype": "object",
                  "stats": {
                    "unique_count": 0,
                    "nan_count": 0,
                    "categories": []
                  }
                },
                {
                  "name": "patient_short_name",
                  "dtype": "object",
                  "stats": {
                    "unique_count": 0,
                    "nan_count": 0,
                    "categories": []
                  }
                },
                {
                  "name": "patient_display_name",
                  "dtype": "object",
                  "stats": {
                    "unique_count": 0,
                    "nan_count": 0,
                    "categories": []
                  }
                },
                {
                  "name": "death_details",
                  "dtype": "object",
                  "stats": {
                    "unique_count": 0,
                    "nan_count": 0,
                    "categories": []
                  }
                },
                {
                  "name": "date_of_death",
                  "dtype": "object",
                  "stats": {
                    "unique_count": 0,
                    "nan_count": 0,
                    "categories": []
                  }
                },
                {
                  "name": "place_of_death",
                  "dtype": "object",
                  "stats": {
                    "unique_count": 0,
                    "nan_count": 0,
                    "categories": []
                  }
                },
                {
                  "name": "place_of_death_other",
                  "dtype": "object",
                  "stats": {
                    "unique_count": 0,
                    "nan_count": 0,
                    "categories": []
                  }
                },
                {
                  "name": "death_information",
                  "dtype": "object",
                  "stats": {
                    "unique_count": 0,
                    "nan_count": 0,
                    "categories": []
                  }
                },
                {
                  "name": "group_review",
                  "dtype": "object",
                  "stats": {
                    "unique_count": 0,
                    "nan_count": 0,
                    "categories": []
                  }
                },
                {
                  "name": "submit",
                  "dtype": "object",
                  "stats": {
                    "unique_count": 0,
                    "nan_count": 0,
                    "categories": []
                  }
                },
                {
                  "name": "r_summary_details",
                  "dtype": "object",
                  "stats": {
                    "unique_count": 0,
                    "nan_count": 0,
                    "categories": []
                  }
                },
                {
                  "name": "c_patient_age",
                  "dtype": "object",
                  "stats": {
                    "unique_count": 0,
                    "nan_count": 0,
                    "categories": []
                  }
                },
                {
                  "name": "r_patient_details",
                  "dtype": "object",
                  "stats": {
                    "unique_count": 0,
                    "nan_count": 0,
                    "categories": []
                  }
                },
                {
                  "name": "r_death_info",
                  "dtype": "object",
                  "stats": {
                    "unique_count": 0,
                    "nan_count": 0,
                    "categories": []
                  }
                },
                {
                  "name": "r_key_instruction",
                  "dtype": "object",
                  "stats": {
                    "unique_count": 0,
                    "nan_count": 0,
                    "categories": []
                  }
                },
                {
                  "name": "blank_note",
                  "dtype": "object",
                  "stats": {
                    "unique_count": 0,
                    "nan_count": 0,
                    "categories": []
                  }
                },
                {
                  "name": "r_referral",
                  "dtype": "object",
                  "stats": {
                    "unique_count": 0,
                    "nan_count": 0,
                    "categories": []
                  }
                },
                {
                  "name": "r_undo",
                  "dtype": "object",
                  "stats": {
                    "unique_count": 0,
                    "nan_count": 0,
                    "categories": []
                  }
                },
                {
                  "name": "data",
                  "dtype": "object",
                  "stats": {
                    "unique_count": 0,
                    "nan_count": 0,
                    "categories": []
                  }
                },
                {
                  "name": "__date_of_death",
                  "dtype": "object",
                  "stats": {
                    "unique_count": 0,
                    "nan_count": 0,
                    "categories": []
                  }
                },
                {
                  "name": "__place_of_death",
                  "dtype": "object",
                  "stats": {
                    "unique_count": 0,
                    "nan_count": 0,
                    "categories": []
                  }
                },
                {
                  "name": "__place_of_death_other",
                  "dtype": "object",
                  "stats": {
                    "unique_count": 0,
                    "nan_count": 0,
                    "categories": []
                  }
                },
                {
                  "name": "__death_information",
                  "dtype": "object",
                  "stats": {
                    "unique_count": 0,
                    "nan_count": 0,
                    "categories": []
                  }
                },
                {
                  "name": "meta.1",
                  "dtype": "object",
                  "stats": {
                    "unique_count": 0,
                    "nan_count": 0,
                    "categories": []
                  }
                },
                {
                  "name": "__patient_uuid",
                  "dtype": "object",
                  "stats": {
                    "unique_count": 0,
                    "nan_count": 0,
                    "categories": []
                  }
                },
                {
                  "name": "__patient_id",
                  "dtype": "object",
                  "stats": {
                    "unique_count": 0,
                    "nan_count": 0,
                    "categories": []
                  }
                },
                {
                  "name": "__household_uuid",
                  "dtype": "object",
                  "stats": {
                    "unique_count": 0,
                    "nan_count": 0,
                    "categories": []
                  }
                },
                {
                  "name": "__source",
                  "dtype": "object",
                  "stats": {
                    "unique_count": 0,
                    "nan_count": 0,
                    "categories": []
                  }
                },
                {
                  "name": "__source_id",
                  "dtype": "object",
                  "stats": {
                    "unique_count": 0,
                    "nan_count": 0,
                    "categories": []
                  }
                },
                {
                  "name": "meta.2",
                  "dtype": "object",
                  "stats": {
                    "unique_count": 0,
                    "nan_count": 0,
                    "categories": []
                  }
                },
                {
                  "name": "instanceID",
                  "dtype": "object",
                  "stats": {
                    "unique_count": 0,
                    "nan_count": 0,
                    "categories": []
                  }
                },
                {
                  "name": "instance.1",
                  "dtype": "object",
                  "stats": {
                    "unique_count": 0,
                    "nan_count": 0,
                    "categories": []
                  }
                },
                {
                  "name": "bind",
                  "dtype": "object",
                  "stats": {
                    "unique_count": 0,
                    "nan_count": 0,
                    "categories": []
                  }
                },
                {
                  "name": "bind.1",
                  "dtype": "object",
                  "stats": {
                    "unique_count": 0,
                    "nan_count": 0,
                    "categories": []
                  }
                },
                {
                  "name": "bind.2",
                  "dtype": "object",
                  "stats": {
                    "unique_count": 0,
                    "nan_count": 0,
                    "categories": []
                  }
                },
                {
                  "name": "bind.3",
                  "dtype": "object",
                  "stats": {
                    "unique_count": 0,
                    "nan_count": 0,
                    "categories": []
                  }
                },
                {
                  "name": "bind.4",
                  "dtype": "object",
                  "stats": {
                    "unique_count": 0,
                    "nan_count": 0,
                    "categories": []
                  }
                },
                {
                  "name": "bind.5",
                  "dtype": "object",
                  "stats": {
                    "unique_count": 0,
                    "nan_count": 0,
                    "categories": []
                  }
                },
                {
                  "name": "bind.6",
                  "dtype": "object",
                  "stats": {
                    "unique_count": 0,
                    "nan_count": 0,
                    "categories": []
                  }
                },
                {
                  "name": "bind.7",
                  "dtype": "object",
                  "stats": {
                    "unique_count": 0,
                    "nan_count": 0,
                    "categories": []
                  }
                },
                {
                  "name": "bind.8",
                  "dtype": "object",
                  "stats": {
                    "unique_count": 0,
                    "nan_count": 0,
                    "categories": []
                  }
                },
                {
                  "name": "bind.9",
                  "dtype": "object",
                  "stats": {
                    "unique_count": 0,
                    "nan_count": 0,
                    "categories": []
                  }
                },
                {
                  "name": "bind.10",
                  "dtype": "object",
                  "stats": {
                    "unique_count": 0,
                    "nan_count": 0,
                    "categories": []
                  }
                },
                {
                  "name": "bind.11",
                  "dtype": "object",
                  "stats": {
                    "unique_count": 0,
                    "nan_count": 0,
                    "categories": []
                  }
                },
                {
                  "name": "bind.12",
                  "dtype": "object",
                  "stats": {
                    "unique_count": 0,
                    "nan_count": 0,
                    "categories": []
                  }
                },
                {
                  "name": "bind.13",
                  "dtype": "object",
                  "stats": {
                    "unique_count": 0,
                    "nan_count": 0,
                    "categories": []
                  }
                },
                {
                  "name": "bind.14",
                  "dtype": "object",
                  "stats": {
                    "unique_count": 0,
                    "nan_count": 0,
                    "categories": []
                  }
                },
                {
                  "name": "bind.15",
                  "dtype": "object",
                  "stats": {
                    "unique_count": 0,
                    "nan_count": 0,
                    "categories": []
                  }
                },
                {
                  "name": "bind.16",
                  "dtype": "object",
                  "stats": {
                    "unique_count": 0,
                    "nan_count": 0,
                    "categories": []
                  }
                },
                {
                  "name": "bind.17",
                  "dtype": "object",
                  "stats": {
                    "unique_count": 0,
                    "nan_count": 0,
                    "categories": []
                  }
                },
                {
                  "name": "bind.18",
                  "dtype": "object",
                  "stats": {
                    "unique_count": 0,
                    "nan_count": 0,
                    "categories": []
                  }
                },
                {
                  "name": "bind.19",
                  "dtype": "object",
                  "stats": {
                    "unique_count": 0,
                    "nan_count": 0,
                    "categories": []
                  }
                },
                {
                  "name": "bind.20",
                  "dtype": "object",
                  "stats": {
                    "unique_count": 0,
                    "nan_count": 0,
                    "categories": []
                  }
                },
                {
                  "name": "bind.21",
                  "dtype": "object",
                  "stats": {
                    "unique_count": 0,
                    "nan_count": 0,
                    "categories": []
                  }
                },
                {
                  "name": "bind.22",
                  "dtype": "object",
                  "stats": {
                    "unique_count": 0,
                    "nan_count": 0,
                    "categories": []
                  }
                },
                {
                  "name": "bind.23",
                  "dtype": "object",
                  "stats": {
                    "unique_count": 0,
                    "nan_count": 0,
                    "categories": []
                  }
                },
                {
                  "name": "bind.24",
                  "dtype": "object",
                  "stats": {
                    "unique_count": 0,
                    "nan_count": 0,
                    "categories": []
                  }
                },
                {
                  "name": "bind.25",
                  "dtype": "object",
                  "stats": {
                    "unique_count": 0,
                    "nan_count": 0,
                    "categories": []
                  }
                },
                {
                  "name": "bind.26",
                  "dtype": "object",
                  "stats": {
                    "unique_count": 0,
                    "nan_count": 0,
                    "categories": []
                  }
                },
                {
                  "name": "bind.27",
                  "dtype": "object",
                  "stats": {
                    "unique_count": 0,
                    "nan_count": 0,
                    "categories": []
                  }
                },
                {
                  "name": "bind.28",
                  "dtype": "object",
                  "stats": {
                    "unique_count": 0,
                    "nan_count": 0,
                    "categories": []
                  }
                },
                {
                  "name": "bind.29",
                  "dtype": "object",
                  "stats": {
                    "unique_count": 0,
                    "nan_count": 0,
                    "categories": []
                  }
                },
                {
                  "name": "bind.30",
                  "dtype": "object",
                  "stats": {
                    "unique_count": 0,
                    "nan_count": 0,
                    "categories": []
                  }
                },
                {
                  "name": "bind.31",
                  "dtype": "object",
                  "stats": {
                    "unique_count": 0,
                    "nan_count": 0,
                    "categories": []
                  }
                },
                {
                  "name": "bind.32",
                  "dtype": "object",
                  "stats": {
                    "unique_count": 0,
                    "nan_count": 0,
                    "categories": []
                  }
                },
                {
                  "name": "bind.33",
                  "dtype": "object",
                  "stats": {
                    "unique_count": 0,
                    "nan_count": 0,
                    "categories": []
                  }
                },
                {
                  "name": "bind.34",
                  "dtype": "object",
                  "stats": {
                    "unique_count": 0,
                    "nan_count": 0,
                    "categories": []
                  }
                },
                {
                  "name": "bind.35",
                  "dtype": "object",
                  "stats": {
                    "unique_count": 0,
                    "nan_count": 0,
                    "categories": []
                  }
                },
                {
                  "name": "bind.36",
                  "dtype": "object",
                  "stats": {
                    "unique_count": 0,
                    "nan_count": 0,
                    "categories": []
                  }
                },
                {
                  "name": "bind.37",
                  "dtype": "object",
                  "stats": {
                    "unique_count": 0,
                    "nan_count": 0,
                    "categories": []
                  }
                },
                {
                  "name": "bind.38",
                  "dtype": "object",
                  "stats": {
                    "unique_count": 0,
                    "nan_count": 0,
                    "categories": []
                  }
                },
                {
                  "name": "bind.39",
                  "dtype": "object",
                  "stats": {
                    "unique_count": 0,
                    "nan_count": 0,
                    "categories": []
                  }
                },
                {
                  "name": "bind.40",
                  "dtype": "object",
                  "stats": {
                    "unique_count": 0,
                    "nan_count": 0,
                    "categories": []
                  }
                },
                {
                  "name": "bind.41",
                  "dtype": "object",
                  "stats": {
                    "unique_count": 0,
                    "nan_count": 0,
                    "categories": []
                  }
                },
                {
                  "name": "body",
                  "dtype": "object",
                  "stats": {
                    "unique_count": 0,
                    "nan_count": 0,
                    "categories": []
                  }
                },
                {
                  "name": "group",
                  "dtype": "object",
                  "stats": {
                    "unique_count": 0,
                    "nan_count": 0,
                    "categories": []
                  }
                },
                {
                  "name": "group.1",
                  "dtype": "object",
                  "stats": {
                    "unique_count": 0,
                    "nan_count": 0,
                    "categories": []
                  }
                },
                {
                  "name": "label",
                  "dtype": "object",
                  "stats": {
                    "unique_count": 0,
                    "nan_count": 0,
                    "categories": []
                  }
                },
                {
                  "name": "input",
                  "dtype": "object",
                  "stats": {
                    "unique_count": 0,
                    "nan_count": 0,
                    "categories": []
                  }
                },
                {
                  "name": "label.1",
                  "dtype": "object",
                  "stats": {
                    "unique_count": 0,
                    "nan_count": 0,
                    "categories": []
                  }
                },
                {
                  "name": "group.2",
                  "dtype": "object",
                  "stats": {
                    "unique_count": 0,
                    "nan_count": 0,
                    "categories": []
                  }
                },
                {
                  "name": "group.3",
                  "dtype": "object",
                  "stats": {
                    "unique_count": 0,
                    "nan_count": 0,
                    "categories": []
                  }
                },
                {
                  "name": "group.4",
                  "dtype": "object",
                  "stats": {
                    "unique_count": 0,
                    "nan_count": 0,
                    "categories": []
                  }
                },
                {
                  "name": "label.2",
                  "dtype": "object",
                  "stats": {
                    "unique_count": 0,
                    "nan_count": 0,
                    "categories": []
                  }
                },
                {
                  "name": "group.5",
                  "dtype": "object",
                  "stats": {
                    "unique_count": 0,
                    "nan_count": 0,
                    "categories": []
                  }
                },
                {
                  "name": "label.3",
                  "dtype": "object",
                  "stats": {
                    "unique_count": 0,
                    "nan_count": 0,
                    "categories": []
                  }
                },
                {
                  "name": "input.1",
                  "dtype": "object",
                  "stats": {
                    "unique_count": 0,
                    "nan_count": 0,
                    "categories": []
                  }
                },
                {
                  "name": "label.4",
                  "dtype": "object",
                  "stats": {
                    "unique_count": 0,
                    "nan_count": 0,
                    "categories": []
                  }
                },
                {
                  "name": "select1",
                  "dtype": "object",
                  "stats": {
                    "unique_count": 0,
                    "nan_count": 0,
                    "categories": []
                  }
                },
                {
                  "name": "label.5",
                  "dtype": "object",
                  "stats": {
                    "unique_count": 0,
                    "nan_count": 0,
                    "categories": []
                  }
                },
                {
                  "name": "item",
                  "dtype": "object",
                  "stats": {
                    "unique_count": 0,
                    "nan_count": 0,
                    "categories": []
                  }
                },
                {
                  "name": "label.6",
                  "dtype": "object",
                  "stats": {
                    "unique_count": 0,
                    "nan_count": 0,
                    "categories": []
                  }
                },
                {
                  "name": "value.25",
                  "dtype": "object",
                  "stats": {
                    "unique_count": 0,
                    "nan_count": 0,
                    "categories": []
                  }
                },
                {
                  "name": "item.1",
                  "dtype": "object",
                  "stats": {
                    "unique_count": 0,
                    "nan_count": 0,
                    "categories": []
                  }
                },
                {
                  "name": "label.7",
                  "dtype": "object",
                  "stats": {
                    "unique_count": 0,
                    "nan_count": 0,
                    "categories": []
                  }
                },
                {
                  "name": "value.26",
                  "dtype": "object",
                  "stats": {
                    "unique_count": 0,
                    "nan_count": 0,
                    "categories": []
                  }
                },
                {
                  "name": "item.2",
                  "dtype": "object",
                  "stats": {
                    "unique_count": 0,
                    "nan_count": 0,
                    "categories": []
                  }
                },
                {
                  "name": "label.8",
                  "dtype": "object",
                  "stats": {
                    "unique_count": 0,
                    "nan_count": 0,
                    "categories": []
                  }
                },
                {
                  "name": "value.27",
                  "dtype": "object",
                  "stats": {
                    "unique_count": 0,
                    "nan_count": 0,
                    "categories": []
                  }
                },
                {
                  "name": "input.2",
                  "dtype": "object",
                  "stats": {
                    "unique_count": 0,
                    "nan_count": 0,
                    "categories": []
                  }
                },
                {
                  "name": "label.9",
                  "dtype": "object",
                  "stats": {
                    "unique_count": 0,
                    "nan_count": 0,
                    "categories": []
                  }
                },
                {
                  "name": "input.3",
                  "dtype": "object",
                  "stats": {
                    "unique_count": 0,
                    "nan_count": 0,
                    "categories": []
                  }
                },
                {
                  "name": "label.10",
                  "dtype": "object",
                  "stats": {
                    "unique_count": 0,
                    "nan_count": 0,
                    "categories": []
                  }
                },
                {
                  "name": "group.6",
                  "dtype": "object",
                  "stats": {
                    "unique_count": 0,
                    "nan_count": 0,
                    "categories": []
                  }
                },
                {
                  "name": "input.4",
                  "dtype": "object",
                  "stats": {
                    "unique_count": 0,
                    "nan_count": 0,
                    "categories": []
                  }
                },
                {
                  "name": "label.11",
                  "dtype": "object",
                  "stats": {
                    "unique_count": 0,
                    "nan_count": 0,
                    "categories": []
                  }
                },
                {
                  "name": "input.5",
                  "dtype": "object",
                  "stats": {
                    "unique_count": 0,
                    "nan_count": 0,
                    "categories": []
                  }
                },
                {
                  "name": "label.12",
                  "dtype": "object",
                  "stats": {
                    "unique_count": 0,
                    "nan_count": 0,
                    "categories": []
                  }
                },
                {
                  "name": "input.6",
                  "dtype": "object",
                  "stats": {
                    "unique_count": 0,
                    "nan_count": 0,
                    "categories": []
                  }
                },
                {
                  "name": "label.13",
                  "dtype": "object",
                  "stats": {
                    "unique_count": 0,
                    "nan_count": 0,
                    "categories": []
                  }
                },
                {
                  "name": "input.7",
                  "dtype": "object",
                  "stats": {
                    "unique_count": 0,
                    "nan_count": 0,
                    "categories": []
                  }
                },
                {
                  "name": "label.14",
                  "dtype": "object",
                  "stats": {
                    "unique_count": 0,
                    "nan_count": 0,
                    "categories": []
                  }
                },
                {
                  "name": "input.8",
                  "dtype": "object",
                  "stats": {
                    "unique_count": 0,
                    "nan_count": 0,
                    "categories": []
                  }
                },
                {
                  "name": "label.15",
                  "dtype": "object",
                  "stats": {
                    "unique_count": 0,
                    "nan_count": 0,
                    "categories": []
                  }
                },
                {
                  "name": "input.9",
                  "dtype": "object",
                  "stats": {
                    "unique_count": 0,
                    "nan_count": 0,
                    "categories": []
                  }
                },
                {
                  "name": "input.10",
                  "dtype": "object",
                  "stats": {
                    "unique_count": 0,
                    "nan_count": 0,
                    "categories": []
                  }
                },
                {
                  "name": "label.16",
                  "dtype": "object",
                  "stats": {
                    "unique_count": 0,
                    "nan_count": 0,
                    "categories": []
                  }
                },
                {
                  "name": "input.11",
                  "dtype": "object",
                  "stats": {
                    "unique_count": 0,
                    "nan_count": 0,
                    "categories": []
                  }
                },
                {
                  "name": "label.17",
                  "dtype": "object",
                  "stats": {
                    "unique_count": 0,
                    "nan_count": 0,
                    "categories": []
                  }
                },
                {
                  "name": "group.7",
                  "dtype": "object",
                  "stats": {
                    "unique_count": 0,
                    "nan_count": 0,
                    "categories": []
                  }
                },
                {
                  "name": "group.8",
                  "dtype": "object",
                  "stats": {
                    "unique_count": 0,
                    "nan_count": 0,
                    "categories": []
                  }
                },
                {
                  "name": "_deepnote_index_column",
                  "dtype": "object"
                }
              ],
              "rows_top": [],
              "rows_bottom": null
            },
            "text/plain": "Empty DataFrame\nColumns: [html, head, title, model, itext, translation, text, value, text, value, text, value, output, text, value, text, value, text, value, text, value, output, text, value, text, value, output, output, output, text, value, output, text, value, text, value, text, value, text, value, text, value, text, value, text, value, text, value, text, value, text, value, text, value, text, value, text, value, text, value, text, value, instance, death_report, inputs, meta, location, lat, long, error, message, source, source_id, contact, _id, name, short_name, patient_id, date_of_birth, sex, parent, parent, contact, name, phone, patient_age_in_years, patient_age_in_months, patient_age_in_days, patient_uuid, patient_id, patient_name, patient_short_name, patient_display_name, death_details, date_of_death, place_of_death, place_of_death_other, death_information, group_review, submit, ...]\nIndex: []\n\n[0 rows x 211 columns]",
            "text/html": "<div>\n<style scoped>\n    .dataframe tbody tr th:only-of-type {\n        vertical-align: middle;\n    }\n\n    .dataframe tbody tr th {\n        vertical-align: top;\n    }\n\n    .dataframe thead th {\n        text-align: right;\n    }\n</style>\n<table border=\"1\" class=\"dataframe\">\n  <thead>\n    <tr style=\"text-align: right;\">\n      <th></th>\n      <th>html</th>\n      <th>head</th>\n      <th>title</th>\n      <th>model</th>\n      <th>itext</th>\n      <th>translation</th>\n      <th>text</th>\n      <th>value</th>\n      <th>text</th>\n      <th>value</th>\n      <th>...</th>\n      <th>label</th>\n      <th>input</th>\n      <th>label</th>\n      <th>input</th>\n      <th>input</th>\n      <th>label</th>\n      <th>input</th>\n      <th>label</th>\n      <th>group</th>\n      <th>group</th>\n    </tr>\n  </thead>\n  <tbody>\n  </tbody>\n</table>\n<p>0 rows × 211 columns</p>\n</div>"
          },
          "metadata": {}
        }
      ],
      "execution_count": null
    },
    {
      "cell_type": "markdown",
      "source": "# XML Parser\nAlgorithmic approach to parsing column names from XML and converting to dataframe using xml.etree library.",
      "metadata": {
        "tags": [],
        "cell_id": "00007-4c8059b8-6014-47e0-8c94-2f4d30802bc9",
        "deepnote_cell_type": "markdown"
      }
    },
    {
      "cell_type": "code",
      "metadata": {
        "tags": [],
        "cell_id": "00006-46fd466c-99ad-4f57-8a71-224463710ae5",
        "deepnote_to_be_reexecuted": false,
        "source_hash": "32bd5203",
        "execution_millis": 9,
        "execution_start": 1614830768695,
        "deepnote_cell_type": "code"
      },
      "source": "# Standard libraries \nimport xml.etree.ElementTree as ET #Element Tree XML parsing library\nimport re #Regex library\nimport os\n\n# @params\n#   root: root of an ElementTree\n#   columns: empty array to store column names\n# Fills the columns array with column names\ndef dfs(root, columns):\n    if root.getchildren() == []:\n        columns.append(root)\n    for child in root.getchildren():\n        dfs(child, columns)\n\n# @param root: root of the tree\n# Outputs the node containing the 'instance' tag which is the start of the data form\ndef findInstanceTag(root):\n    results = []\n    if ('instance' in root.tag):\n        return root\n    for child in root.getchildren():\n        tagElement = root.find(child.tag)\n        results.append(findInstanceTag(tagElement))\n        for node in results:\n            if node is not None:\n                return node\n    \n# @param columns: array of column names\n# Outputs a new array of column names stripped of their xmlns tags \ndef cleanColumnNames(columns):\n    xmlns_re = \"({.+})\"\n    cleaned_columns = [re.sub(xmlns_re, '', name.tag) for name in columns]\n    return cleaned_columns\n\n# @param: names: array of column names\n# Outputs a pandas Dataframe with the column names\ndef columnsToPD(names):\n    return pd.DataFrame(columns = names)\n\n# Main XMLParser function\n# Upload XML file into the directory and change inputFile to the file name\n\ndef xmlParse(fileName):\n    inputFile = fileName #insert xml file name\n    parser = ET.parse(inputFile) #initialize the ElementTree parser\n    root = parser.getroot() #Find the root of the tree, the <html> tag\n    form = findInstanceTag(root) #find the instances tag - this is the start of the data\n    columns = [] #initialize empty array to store the column names\n    dfs(form, columns) #extract column names with DFS\n    return cleanColumnNames(columns) #clean the columns and return\n\n\ndirectory = '/work/SP21-MedicMobile'  \ndef dirIterator(directory):\n    for fileName in os.listdir(directory):\n        if fileName.endswith(\".xml\"):\n            # print(os.path.join(directory, fileName))\n            columnsToPD(xmlParse(fileName))\n        else:\n            continue\n\nprint(dirIterator(directory))",
      "outputs": [
        {
          "name": "stdout",
          "text": "None\n/shared-libs/python3.7/py-core/lib/python3.7/site-packages/ipykernel_launcher.py:22: DeprecationWarning: This method will be removed in future versions.  Use 'list(elem)' or iteration over elem instead.\n/shared-libs/python3.7/py-core/lib/python3.7/site-packages/ipykernel_launcher.py:11: DeprecationWarning: This method will be removed in future versions.  Use 'list(elem)' or iteration over elem instead.\n  # This is added back by InteractiveShellApp.init_path()\n/shared-libs/python3.7/py-core/lib/python3.7/site-packages/ipykernel_launcher.py:13: DeprecationWarning: This method will be removed in future versions.  Use 'list(elem)' or iteration over elem instead.\n  del sys.path[0]\n",
          "output_type": "stream"
        }
      ],
      "execution_count": null
    },
    {
      "cell_type": "markdown",
      "source": "# XLSX file parsing:",
      "metadata": {
        "tags": [],
        "cell_id": "00006-cddd821e-874a-46a3-a127-381c457a11f5",
        "deepnote_cell_type": "markdown"
      }
    },
    {
      "cell_type": "code",
      "metadata": {
        "tags": [],
        "cell_id": "00007-5ec4e4ae-9277-4820-89b2-47981b7079ae",
        "deepnote_to_be_reexecuted": false,
        "source_hash": "70dbb276",
        "execution_millis": 253,
        "execution_start": 1614829101142,
        "deepnote_cell_type": "code"
      },
      "source": "# This code retrieves the first two columns of death_report, type and name\n# Please make sure to install all items under requirements.txt before running!! - Jae Hee\n\nimport pandas as pd\nimport numpy as np\nimport openpyxl\ncols = [0, 1]\ndf = pd.read_excel('death_report.xlsx', usecols=cols).dropna()\ndf",
      "outputs": [
        {
          "output_type": "execute_result",
          "execution_count": 6,
          "data": {
            "application/vnd.deepnote.dataframe.v2+json": {
              "row_count": 51,
              "column_count": 2,
              "columns": [
                {
                  "name": "type",
                  "dtype": "object",
                  "stats": {
                    "unique_count": 9,
                    "nan_count": 0,
                    "categories": [
                      {
                        "name": "calculate",
                        "count": 18
                      },
                      {
                        "name": "begin group",
                        "count": 9
                      },
                      {
                        "name": "7 others",
                        "count": 24
                      }
                    ]
                  }
                },
                {
                  "name": "name",
                  "dtype": "object",
                  "stats": {
                    "unique_count": 45,
                    "nan_count": 0,
                    "categories": [
                      {
                        "name": "contact",
                        "count": 2
                      },
                      {
                        "name": "name",
                        "count": 2
                      },
                      {
                        "name": "43 others",
                        "count": 47
                      }
                    ]
                  }
                },
                {
                  "name": "_deepnote_index_column",
                  "dtype": "int64"
                }
              ],
              "rows_top": [
                {
                  "type": "begin group",
                  "name": "inputs",
                  "_deepnote_index_column": 0
                },
                {
                  "type": "hidden",
                  "name": "source",
                  "_deepnote_index_column": 1
                },
                {
                  "type": "hidden",
                  "name": "source_id",
                  "_deepnote_index_column": 2
                },
                {
                  "type": "begin group",
                  "name": "contact",
                  "_deepnote_index_column": 3
                },
                {
                  "type": "db:person",
                  "name": "_id",
                  "_deepnote_index_column": 4
                },
                {
                  "type": "hidden",
                  "name": "name",
                  "_deepnote_index_column": 5
                },
                {
                  "type": "hidden",
                  "name": "short_name",
                  "_deepnote_index_column": 6
                },
                {
                  "type": "hidden",
                  "name": "patient_id",
                  "_deepnote_index_column": 7
                },
                {
                  "type": "hidden",
                  "name": "date_of_birth",
                  "_deepnote_index_column": 8
                },
                {
                  "type": "hidden",
                  "name": "sex",
                  "_deepnote_index_column": 9
                },
                {
                  "type": "begin group",
                  "name": "parent",
                  "_deepnote_index_column": 10
                },
                {
                  "type": "begin group",
                  "name": "parent",
                  "_deepnote_index_column": 11
                },
                {
                  "type": "begin group",
                  "name": "contact",
                  "_deepnote_index_column": 12
                },
                {
                  "type": "hidden",
                  "name": "name",
                  "_deepnote_index_column": 13
                },
                {
                  "type": "hidden",
                  "name": "phone",
                  "_deepnote_index_column": 14
                },
                {
                  "type": "calculate",
                  "name": "patient_age_in_years",
                  "_deepnote_index_column": 21
                },
                {
                  "type": "calculate",
                  "name": "patient_age_in_months",
                  "_deepnote_index_column": 22
                },
                {
                  "type": "calculate",
                  "name": "patient_age_in_days",
                  "_deepnote_index_column": 23
                },
                {
                  "type": "calculate",
                  "name": "patient_uuid",
                  "_deepnote_index_column": 24
                },
                {
                  "type": "calculate",
                  "name": "patient_id",
                  "_deepnote_index_column": 25
                },
                {
                  "type": "calculate",
                  "name": "patient_name",
                  "_deepnote_index_column": 26
                },
                {
                  "type": "calculate",
                  "name": "patient_short_name",
                  "_deepnote_index_column": 27
                },
                {
                  "type": "calculate",
                  "name": "patient_display_name",
                  "_deepnote_index_column": 28
                },
                {
                  "type": "begin group",
                  "name": "death_details",
                  "_deepnote_index_column": 30
                },
                {
                  "type": "date",
                  "name": "date_of_death",
                  "_deepnote_index_column": 31
                },
                {
                  "type": "select_one places_of_death",
                  "name": "place_of_death",
                  "_deepnote_index_column": 32
                },
                {
                  "type": "text",
                  "name": "place_of_death_other",
                  "_deepnote_index_column": 33
                },
                {
                  "type": "text",
                  "name": "death_information",
                  "_deepnote_index_column": 34
                },
                {
                  "type": "begin group",
                  "name": "group_review",
                  "_deepnote_index_column": 37
                },
                {
                  "type": "note",
                  "name": "submit",
                  "_deepnote_index_column": 38
                },
                {
                  "type": "note",
                  "name": "r_summary_details",
                  "_deepnote_index_column": 39
                },
                {
                  "type": "calculate",
                  "name": "c_patient_age",
                  "_deepnote_index_column": 40
                },
                {
                  "type": "note",
                  "name": "r_patient_details",
                  "_deepnote_index_column": 41
                },
                {
                  "type": "note",
                  "name": "r_death_info",
                  "_deepnote_index_column": 42
                },
                {
                  "type": "note",
                  "name": "r_key_instruction",
                  "_deepnote_index_column": 43
                },
                {
                  "type": "note",
                  "name": "blank_note",
                  "_deepnote_index_column": 44
                },
                {
                  "type": "note",
                  "name": "r_referral",
                  "_deepnote_index_column": 45
                },
                {
                  "type": "note",
                  "name": "r_undo",
                  "_deepnote_index_column": 46
                },
                {
                  "type": "begin group",
                  "name": "data",
                  "_deepnote_index_column": 49
                },
                {
                  "type": "calculate",
                  "name": "__date_of_death",
                  "_deepnote_index_column": 50
                },
                {
                  "type": "calculate",
                  "name": "__place_of_death",
                  "_deepnote_index_column": 51
                },
                {
                  "type": "calculate",
                  "name": "__place_of_death_other",
                  "_deepnote_index_column": 52
                },
                {
                  "type": "calculate",
                  "name": "__death_information",
                  "_deepnote_index_column": 53
                },
                {
                  "type": "begin group",
                  "name": "meta",
                  "_deepnote_index_column": 54
                },
                {
                  "type": "calculate",
                  "name": "__patient_uuid",
                  "_deepnote_index_column": 55
                },
                {
                  "type": "calculate",
                  "name": "__patient_id",
                  "_deepnote_index_column": 56
                },
                {
                  "type": "calculate",
                  "name": "__household_uuid",
                  "_deepnote_index_column": 57
                },
                {
                  "type": "calculate",
                  "name": "__source",
                  "_deepnote_index_column": 58
                },
                {
                  "type": "calculate",
                  "name": "__source_id",
                  "_deepnote_index_column": 59
                },
                {
                  "type": "end group",
                  "name": "meta",
                  "_deepnote_index_column": 60
                },
                {
                  "type": "end group",
                  "name": "data",
                  "_deepnote_index_column": 61
                }
              ],
              "rows_bottom": null
            },
            "text/plain": "                          type                    name\n0                  begin group                  inputs\n1                       hidden                  source\n2                       hidden               source_id\n3                  begin group                 contact\n4                    db:person                     _id\n5                       hidden                    name\n6                       hidden              short_name\n7                       hidden              patient_id\n8                       hidden           date_of_birth\n9                       hidden                     sex\n10                 begin group                  parent\n11                 begin group                  parent\n12                 begin group                 contact\n13                      hidden                    name\n14                      hidden                   phone\n21                   calculate    patient_age_in_years\n22                   calculate   patient_age_in_months\n23                   calculate     patient_age_in_days\n24                   calculate            patient_uuid\n25                   calculate              patient_id\n26                   calculate            patient_name\n27                   calculate      patient_short_name\n28                   calculate    patient_display_name\n30                 begin group           death_details\n31                        date           date_of_death\n32  select_one places_of_death          place_of_death\n33                        text    place_of_death_other\n34                        text       death_information\n37                 begin group            group_review\n38                        note                  submit\n39                        note       r_summary_details\n40                   calculate           c_patient_age\n41                        note       r_patient_details\n42                        note            r_death_info\n43                        note       r_key_instruction\n44                        note              blank_note\n45                        note              r_referral\n46                        note                  r_undo\n49                 begin group                    data\n50                   calculate         __date_of_death\n51                   calculate        __place_of_death\n52                   calculate  __place_of_death_other\n53                   calculate     __death_information\n54                 begin group                    meta\n55                   calculate          __patient_uuid\n56                   calculate            __patient_id\n57                   calculate        __household_uuid\n58                   calculate                __source\n59                   calculate             __source_id\n60                   end group                    meta\n61                   end group                    data",
            "text/html": "<div>\n<style scoped>\n    .dataframe tbody tr th:only-of-type {\n        vertical-align: middle;\n    }\n\n    .dataframe tbody tr th {\n        vertical-align: top;\n    }\n\n    .dataframe thead th {\n        text-align: right;\n    }\n</style>\n<table border=\"1\" class=\"dataframe\">\n  <thead>\n    <tr style=\"text-align: right;\">\n      <th></th>\n      <th>type</th>\n      <th>name</th>\n    </tr>\n  </thead>\n  <tbody>\n    <tr>\n      <th>0</th>\n      <td>begin group</td>\n      <td>inputs</td>\n    </tr>\n    <tr>\n      <th>1</th>\n      <td>hidden</td>\n      <td>source</td>\n    </tr>\n    <tr>\n      <th>2</th>\n      <td>hidden</td>\n      <td>source_id</td>\n    </tr>\n    <tr>\n      <th>3</th>\n      <td>begin group</td>\n      <td>contact</td>\n    </tr>\n    <tr>\n      <th>4</th>\n      <td>db:person</td>\n      <td>_id</td>\n    </tr>\n    <tr>\n      <th>5</th>\n      <td>hidden</td>\n      <td>name</td>\n    </tr>\n    <tr>\n      <th>6</th>\n      <td>hidden</td>\n      <td>short_name</td>\n    </tr>\n    <tr>\n      <th>7</th>\n      <td>hidden</td>\n      <td>patient_id</td>\n    </tr>\n    <tr>\n      <th>8</th>\n      <td>hidden</td>\n      <td>date_of_birth</td>\n    </tr>\n    <tr>\n      <th>9</th>\n      <td>hidden</td>\n      <td>sex</td>\n    </tr>\n    <tr>\n      <th>10</th>\n      <td>begin group</td>\n      <td>parent</td>\n    </tr>\n    <tr>\n      <th>11</th>\n      <td>begin group</td>\n      <td>parent</td>\n    </tr>\n    <tr>\n      <th>12</th>\n      <td>begin group</td>\n      <td>contact</td>\n    </tr>\n    <tr>\n      <th>13</th>\n      <td>hidden</td>\n      <td>name</td>\n    </tr>\n    <tr>\n      <th>14</th>\n      <td>hidden</td>\n      <td>phone</td>\n    </tr>\n    <tr>\n      <th>21</th>\n      <td>calculate</td>\n      <td>patient_age_in_years</td>\n    </tr>\n    <tr>\n      <th>22</th>\n      <td>calculate</td>\n      <td>patient_age_in_months</td>\n    </tr>\n    <tr>\n      <th>23</th>\n      <td>calculate</td>\n      <td>patient_age_in_days</td>\n    </tr>\n    <tr>\n      <th>24</th>\n      <td>calculate</td>\n      <td>patient_uuid</td>\n    </tr>\n    <tr>\n      <th>25</th>\n      <td>calculate</td>\n      <td>patient_id</td>\n    </tr>\n    <tr>\n      <th>26</th>\n      <td>calculate</td>\n      <td>patient_name</td>\n    </tr>\n    <tr>\n      <th>27</th>\n      <td>calculate</td>\n      <td>patient_short_name</td>\n    </tr>\n    <tr>\n      <th>28</th>\n      <td>calculate</td>\n      <td>patient_display_name</td>\n    </tr>\n    <tr>\n      <th>30</th>\n      <td>begin group</td>\n      <td>death_details</td>\n    </tr>\n    <tr>\n      <th>31</th>\n      <td>date</td>\n      <td>date_of_death</td>\n    </tr>\n    <tr>\n      <th>32</th>\n      <td>select_one places_of_death</td>\n      <td>place_of_death</td>\n    </tr>\n    <tr>\n      <th>33</th>\n      <td>text</td>\n      <td>place_of_death_other</td>\n    </tr>\n    <tr>\n      <th>34</th>\n      <td>text</td>\n      <td>death_information</td>\n    </tr>\n    <tr>\n      <th>37</th>\n      <td>begin group</td>\n      <td>group_review</td>\n    </tr>\n    <tr>\n      <th>38</th>\n      <td>note</td>\n      <td>submit</td>\n    </tr>\n    <tr>\n      <th>39</th>\n      <td>note</td>\n      <td>r_summary_details</td>\n    </tr>\n    <tr>\n      <th>40</th>\n      <td>calculate</td>\n      <td>c_patient_age</td>\n    </tr>\n    <tr>\n      <th>41</th>\n      <td>note</td>\n      <td>r_patient_details</td>\n    </tr>\n    <tr>\n      <th>42</th>\n      <td>note</td>\n      <td>r_death_info</td>\n    </tr>\n    <tr>\n      <th>43</th>\n      <td>note</td>\n      <td>r_key_instruction</td>\n    </tr>\n    <tr>\n      <th>44</th>\n      <td>note</td>\n      <td>blank_note</td>\n    </tr>\n    <tr>\n      <th>45</th>\n      <td>note</td>\n      <td>r_referral</td>\n    </tr>\n    <tr>\n      <th>46</th>\n      <td>note</td>\n      <td>r_undo</td>\n    </tr>\n    <tr>\n      <th>49</th>\n      <td>begin group</td>\n      <td>data</td>\n    </tr>\n    <tr>\n      <th>50</th>\n      <td>calculate</td>\n      <td>__date_of_death</td>\n    </tr>\n    <tr>\n      <th>51</th>\n      <td>calculate</td>\n      <td>__place_of_death</td>\n    </tr>\n    <tr>\n      <th>52</th>\n      <td>calculate</td>\n      <td>__place_of_death_other</td>\n    </tr>\n    <tr>\n      <th>53</th>\n      <td>calculate</td>\n      <td>__death_information</td>\n    </tr>\n    <tr>\n      <th>54</th>\n      <td>begin group</td>\n      <td>meta</td>\n    </tr>\n    <tr>\n      <th>55</th>\n      <td>calculate</td>\n      <td>__patient_uuid</td>\n    </tr>\n    <tr>\n      <th>56</th>\n      <td>calculate</td>\n      <td>__patient_id</td>\n    </tr>\n    <tr>\n      <th>57</th>\n      <td>calculate</td>\n      <td>__household_uuid</td>\n    </tr>\n    <tr>\n      <th>58</th>\n      <td>calculate</td>\n      <td>__source</td>\n    </tr>\n    <tr>\n      <th>59</th>\n      <td>calculate</td>\n      <td>__source_id</td>\n    </tr>\n    <tr>\n      <th>60</th>\n      <td>end group</td>\n      <td>meta</td>\n    </tr>\n    <tr>\n      <th>61</th>\n      <td>end group</td>\n      <td>data</td>\n    </tr>\n  </tbody>\n</table>\n</div>"
          },
          "metadata": {}
        }
      ],
      "execution_count": null
    },
    {
      "cell_type": "markdown",
      "source": "Random value generators for each feature:",
      "metadata": {
        "tags": [],
        "cell_id": "00008-4fa4f8ba-0222-4171-9027-6c47b5d43e68",
        "deepnote_cell_type": "markdown"
      }
    },
    {
      "cell_type": "code",
      "metadata": {
        "tags": [],
        "cell_id": "00008-e79bfeb3-4f8a-40ef-b3a1-e16e6d302ac8",
        "deepnote_to_be_reexecuted": false,
        "source_hash": "60142f2a",
        "execution_millis": 66,
        "execution_start": 1614829101392,
        "deepnote_cell_type": "code"
      },
      "source": "# Import faker from requirements.txt, which is a python package that generates fake data\n# Look into Faker Documentation here: https://faker.readthedocs.io/en/master/ \n# Currently only includes some features - Jae Hee\n\nfrom faker import Faker \nfake = Faker()\n\n# fake name\nname = fake.name()\nprint(name)\n\n# fake address\naddress = fake.address()\nprint(address)\n\n# fake contact\ncontact = fake.phone_number()\nprint(contact)\n\n# fake date_of_birth\ndate_of_birth = fake.date_of_birth()\nprint(date_of_birth)\n\n# fake sex\ndef random_sex(): \n    sex = np.random.randint(0,2)\n    if sex: sex = 'M' \n    else: sex = 'F' \n    return sex\nrandom_sex()\n\n\n",
      "outputs": [
        {
          "name": "stdout",
          "text": "Ronald Robinson\n79662 Michael Brooks\nLake Katherine, OK 89571\n001-582-727-4415x53860\n2020-10-26\n",
          "output_type": "stream"
        },
        {
          "output_type": "execute_result",
          "execution_count": 7,
          "data": {
            "text/plain": "'F'"
          },
          "metadata": {}
        }
      ],
      "execution_count": null
    },
    {
      "cell_type": "code",
      "metadata": {
        "tags": [],
        "cell_id": "00012-10cb916f-c85b-40bf-a649-47471e96d645",
        "deepnote_to_be_reexecuted": false,
        "source_hash": "b623e53d",
        "execution_millis": 48,
        "execution_start": 1614829101455,
        "deepnote_cell_type": "code"
      },
      "source": "",
      "outputs": [],
      "execution_count": null
    },
    {
      "cell_type": "code",
      "source": "",
      "metadata": {
        "tags": [],
        "cell_id": "00013-ce3d05ec-6834-4b25-8d9e-79f49f4e0295",
        "deepnote_to_be_reexecuted": false,
        "source_hash": "b623e53d",
        "execution_millis": 0,
        "execution_start": 1614829101504,
        "deepnote_cell_type": "code"
      },
      "outputs": [],
      "execution_count": null
    },
    {
      "cell_type": "markdown",
      "source": "<a style='text-decoration:none;line-height:16px;display:flex;color:#5B5B62;padding:10px;justify-content:end;' href='https://deepnote.com?utm_source=created-in-deepnote-cell&projectId=59003b3a-4258-4703-b30d-75642543bba1' target=\"_blank\">\n<img style='display:inline;max-height:16px;margin:0px;margin-right:7.5px;' src='data:image/svg+xml;base64,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' > </img>\nCreated in <span style='font-weight:600;margin-left:4px;'>Deepnote</span></a>",
      "metadata": {
        "tags": [],
        "created_in_deepnote_cell": true,
        "deepnote_cell_type": "markdown"
      }
    }
  ],
  "nbformat": 4,
  "nbformat_minor": 2,
  "metadata": {
    "orig_nbformat": 2,
    "deepnote_notebook_id": "e139d015-a4be-4e0b-85fc-ef334b9f7a06",
    "deepnote": {
      "is_reactive": false
    },
    "deepnote_execution_queue": []
  }
}