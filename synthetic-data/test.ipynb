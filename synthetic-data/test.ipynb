{
  "cells": [
    {
      "cell_type": "code",
      "metadata": {
        "tags": [],
        "cell_id": "00000-8cd2becd-8410-4734-a3c6-7c2dfc6f5d60",
        "deepnote_to_be_reexecuted": false,
        "source_hash": "9b82ee11",
        "execution_start": 1619535222197,
        "deepnote_cell_type": "code"
      },
      "source": "import pandas as pd",
      "outputs": [],
      "execution_count": null
    },
    {
      "cell_type": "code",
      "source": "pd.read_csv(\"properdelivery.csv\")",
      "metadata": {
        "tags": [],
        "cell_id": "00001-8df8a3a3-fe9d-44cf-a45e-a7f344773a5f",
        "deepnote_to_be_reexecuted": false,
        "source_hash": "dd9d852f",
        "execution_start": 1619535237544,
        "execution_millis": 71,
        "deepnote_cell_type": "code"
      },
      "outputs": [
        {
          "output_type": "execute_result",
          "execution_count": 2,
          "data": {
            "application/vnd.deepnote.dataframe.v2+json": {
              "row_count": 20,
              "column_count": 15,
              "columns": [
                {
                  "name": "Unnamed: 0",
                  "dtype": "int64",
                  "stats": {
                    "unique_count": 20,
                    "nan_count": 0,
                    "min": "0",
                    "max": "19",
                    "histogram": [
                      {
                        "bin_start": 0,
                        "bin_end": 1.9,
                        "count": 2
                      },
                      {
                        "bin_start": 1.9,
                        "bin_end": 3.8,
                        "count": 2
                      },
                      {
                        "bin_start": 3.8,
                        "bin_end": 5.699999999999999,
                        "count": 2
                      },
                      {
                        "bin_start": 5.699999999999999,
                        "bin_end": 7.6,
                        "count": 2
                      },
                      {
                        "bin_start": 7.6,
                        "bin_end": 9.5,
                        "count": 2
                      },
                      {
                        "bin_start": 9.5,
                        "bin_end": 11.399999999999999,
                        "count": 2
                      },
                      {
                        "bin_start": 11.399999999999999,
                        "bin_end": 13.299999999999999,
                        "count": 2
                      },
                      {
                        "bin_start": 13.299999999999999,
                        "bin_end": 15.2,
                        "count": 2
                      },
                      {
                        "bin_start": 15.2,
                        "bin_end": 17.099999999999998,
                        "count": 2
                      },
                      {
                        "bin_start": 17.099999999999998,
                        "bin_end": 19,
                        "count": 2
                      }
                    ]
                  }
                },
                {
                  "name": "_id",
                  "dtype": "int64",
                  "stats": {
                    "unique_count": 20,
                    "nan_count": 0,
                    "min": "51",
                    "max": "1195",
                    "histogram": [
                      {
                        "bin_start": 51,
                        "bin_end": 165.4,
                        "count": 2
                      },
                      {
                        "bin_start": 165.4,
                        "bin_end": 279.8,
                        "count": 3
                      },
                      {
                        "bin_start": 279.8,
                        "bin_end": 394.20000000000005,
                        "count": 1
                      },
                      {
                        "bin_start": 394.20000000000005,
                        "bin_end": 508.6,
                        "count": 0
                      },
                      {
                        "bin_start": 508.6,
                        "bin_end": 623,
                        "count": 3
                      },
                      {
                        "bin_start": 623,
                        "bin_end": 737.4000000000001,
                        "count": 1
                      },
                      {
                        "bin_start": 737.4000000000001,
                        "bin_end": 851.8000000000001,
                        "count": 2
                      },
                      {
                        "bin_start": 851.8000000000001,
                        "bin_end": 966.2,
                        "count": 2
                      },
                      {
                        "bin_start": 966.2,
                        "bin_end": 1080.6000000000001,
                        "count": 4
                      },
                      {
                        "bin_start": 1080.6000000000001,
                        "bin_end": 1195,
                        "count": 2
                      }
                    ]
                  }
                },
                {
                  "name": "birth_date",
                  "dtype": "object",
                  "stats": {
                    "unique_count": 20,
                    "nan_count": 0,
                    "categories": [
                      {
                        "name": "1978-11-17",
                        "count": 1
                      },
                      {
                        "name": "2006-10-22",
                        "count": 1
                      },
                      {
                        "name": "18 others",
                        "count": 18
                      }
                    ]
                  }
                },
                {
                  "name": "date_of_birth",
                  "dtype": "object",
                  "stats": {
                    "unique_count": 20,
                    "nan_count": 0,
                    "categories": [
                      {
                        "name": "1930-06-24",
                        "count": 1
                      },
                      {
                        "name": "1914-02-27",
                        "count": 1
                      },
                      {
                        "name": "18 others",
                        "count": 18
                      }
                    ]
                  }
                },
                {
                  "name": "error",
                  "dtype": "float64",
                  "stats": {
                    "unique_count": 8,
                    "nan_count": 0,
                    "min": "2.0",
                    "max": "10.0",
                    "histogram": [
                      {
                        "bin_start": 2,
                        "bin_end": 2.8,
                        "count": 3
                      },
                      {
                        "bin_start": 2.8,
                        "bin_end": 3.6,
                        "count": 4
                      },
                      {
                        "bin_start": 3.6,
                        "bin_end": 4.4,
                        "count": 2
                      },
                      {
                        "bin_start": 4.4,
                        "bin_end": 5.2,
                        "count": 6
                      },
                      {
                        "bin_start": 5.2,
                        "bin_end": 6,
                        "count": 0
                      },
                      {
                        "bin_start": 6,
                        "bin_end": 6.800000000000001,
                        "count": 0
                      },
                      {
                        "bin_start": 6.800000000000001,
                        "bin_end": 7.6000000000000005,
                        "count": 2
                      },
                      {
                        "bin_start": 7.6000000000000005,
                        "bin_end": 8.4,
                        "count": 1
                      },
                      {
                        "bin_start": 8.4,
                        "bin_end": 9.2,
                        "count": 1
                      },
                      {
                        "bin_start": 9.2,
                        "bin_end": 10,
                        "count": 1
                      }
                    ]
                  }
                },
                {
                  "name": "lat",
                  "dtype": "float64",
                  "stats": {
                    "unique_count": 1,
                    "nan_count": 0,
                    "min": "120.34",
                    "max": "120.34",
                    "histogram": [
                      {
                        "bin_start": 119.84,
                        "bin_end": 119.94,
                        "count": 0
                      },
                      {
                        "bin_start": 119.94,
                        "bin_end": 120.04,
                        "count": 0
                      },
                      {
                        "bin_start": 120.04,
                        "bin_end": 120.14,
                        "count": 0
                      },
                      {
                        "bin_start": 120.14,
                        "bin_end": 120.24000000000001,
                        "count": 0
                      },
                      {
                        "bin_start": 120.24000000000001,
                        "bin_end": 120.34,
                        "count": 0
                      },
                      {
                        "bin_start": 120.34,
                        "bin_end": 120.44,
                        "count": 20
                      },
                      {
                        "bin_start": 120.44,
                        "bin_end": 120.54,
                        "count": 0
                      },
                      {
                        "bin_start": 120.54,
                        "bin_end": 120.64,
                        "count": 0
                      },
                      {
                        "bin_start": 120.64,
                        "bin_end": 120.74000000000001,
                        "count": 0
                      },
                      {
                        "bin_start": 120.74000000000001,
                        "bin_end": 120.84,
                        "count": 0
                      }
                    ]
                  }
                },
                {
                  "name": "long",
                  "dtype": "float64",
                  "stats": {
                    "unique_count": 1,
                    "nan_count": 0,
                    "min": "30.54",
                    "max": "30.54",
                    "histogram": [
                      {
                        "bin_start": 30.04,
                        "bin_end": 30.14,
                        "count": 0
                      },
                      {
                        "bin_start": 30.14,
                        "bin_end": 30.24,
                        "count": 0
                      },
                      {
                        "bin_start": 30.24,
                        "bin_end": 30.34,
                        "count": 0
                      },
                      {
                        "bin_start": 30.34,
                        "bin_end": 30.439999999999998,
                        "count": 0
                      },
                      {
                        "bin_start": 30.439999999999998,
                        "bin_end": 30.54,
                        "count": 0
                      },
                      {
                        "bin_start": 30.54,
                        "bin_end": 30.64,
                        "count": 20
                      },
                      {
                        "bin_start": 30.64,
                        "bin_end": 30.74,
                        "count": 0
                      },
                      {
                        "bin_start": 30.74,
                        "bin_end": 30.84,
                        "count": 0
                      },
                      {
                        "bin_start": 30.84,
                        "bin_end": 30.939999999999998,
                        "count": 0
                      },
                      {
                        "bin_start": 30.939999999999998,
                        "bin_end": 31.04,
                        "count": 0
                      }
                    ]
                  }
                },
                {
                  "name": "message",
                  "dtype": "object",
                  "stats": {
                    "unique_count": 4,
                    "nan_count": 0,
                    "categories": [
                      {
                        "name": "When can I reach you?",
                        "count": 10
                      },
                      {
                        "name": "What time are you available?",
                        "count": 7
                      },
                      {
                        "name": "2 others",
                        "count": 3
                      }
                    ]
                  }
                },
                {
                  "name": "name",
                  "dtype": "object",
                  "stats": {
                    "unique_count": 3,
                    "nan_count": 0,
                    "categories": [
                      {
                        "name": "bye",
                        "count": 11
                      },
                      {
                        "name": "nah",
                        "count": 8
                      },
                      {
                        "name": "Yeah",
                        "count": 1
                      }
                    ]
                  }
                },
                {
                  "name": "patient_id",
                  "dtype": "int64",
                  "stats": {
                    "unique_count": 20,
                    "nan_count": 0,
                    "min": "9",
                    "max": "1217",
                    "histogram": [
                      {
                        "bin_start": 9,
                        "bin_end": 129.8,
                        "count": 2
                      },
                      {
                        "bin_start": 129.8,
                        "bin_end": 250.6,
                        "count": 1
                      },
                      {
                        "bin_start": 250.6,
                        "bin_end": 371.4,
                        "count": 2
                      },
                      {
                        "bin_start": 371.4,
                        "bin_end": 492.2,
                        "count": 4
                      },
                      {
                        "bin_start": 492.2,
                        "bin_end": 613,
                        "count": 1
                      },
                      {
                        "bin_start": 613,
                        "bin_end": 733.8,
                        "count": 1
                      },
                      {
                        "bin_start": 733.8,
                        "bin_end": 854.6,
                        "count": 2
                      },
                      {
                        "bin_start": 854.6,
                        "bin_end": 975.4,
                        "count": 2
                      },
                      {
                        "bin_start": 975.4,
                        "bin_end": 1096.2,
                        "count": 2
                      },
                      {
                        "bin_start": 1096.2,
                        "bin_end": 1217,
                        "count": 3
                      }
                    ]
                  }
                },
                {
                  "name": "patient_uuid",
                  "dtype": "int64",
                  "stats": {
                    "unique_count": 20,
                    "nan_count": 0,
                    "min": "59",
                    "max": "1229",
                    "histogram": [
                      {
                        "bin_start": 59,
                        "bin_end": 176,
                        "count": 3
                      },
                      {
                        "bin_start": 176,
                        "bin_end": 293,
                        "count": 2
                      },
                      {
                        "bin_start": 293,
                        "bin_end": 410,
                        "count": 3
                      },
                      {
                        "bin_start": 410,
                        "bin_end": 527,
                        "count": 3
                      },
                      {
                        "bin_start": 527,
                        "bin_end": 644,
                        "count": 3
                      },
                      {
                        "bin_start": 644,
                        "bin_end": 761,
                        "count": 1
                      },
                      {
                        "bin_start": 761,
                        "bin_end": 878,
                        "count": 2
                      },
                      {
                        "bin_start": 878,
                        "bin_end": 995,
                        "count": 0
                      },
                      {
                        "bin_start": 995,
                        "bin_end": 1112,
                        "count": 1
                      },
                      {
                        "bin_start": 1112,
                        "bin_end": 1229,
                        "count": 2
                      }
                    ]
                  }
                },
                {
                  "name": "source",
                  "dtype": "int64",
                  "stats": {
                    "unique_count": 20,
                    "nan_count": 0,
                    "min": "16",
                    "max": "1175",
                    "histogram": [
                      {
                        "bin_start": 16,
                        "bin_end": 131.9,
                        "count": 3
                      },
                      {
                        "bin_start": 131.9,
                        "bin_end": 247.8,
                        "count": 1
                      },
                      {
                        "bin_start": 247.8,
                        "bin_end": 363.70000000000005,
                        "count": 2
                      },
                      {
                        "bin_start": 363.70000000000005,
                        "bin_end": 479.6,
                        "count": 0
                      },
                      {
                        "bin_start": 479.6,
                        "bin_end": 595.5,
                        "count": 1
                      },
                      {
                        "bin_start": 595.5,
                        "bin_end": 711.4000000000001,
                        "count": 2
                      },
                      {
                        "bin_start": 711.4000000000001,
                        "bin_end": 827.3000000000001,
                        "count": 1
                      },
                      {
                        "bin_start": 827.3000000000001,
                        "bin_end": 943.2,
                        "count": 4
                      },
                      {
                        "bin_start": 943.2,
                        "bin_end": 1059.1000000000001,
                        "count": 3
                      },
                      {
                        "bin_start": 1059.1000000000001,
                        "bin_end": 1175,
                        "count": 3
                      }
                    ]
                  }
                },
                {
                  "name": "source_id",
                  "dtype": "int64",
                  "stats": {
                    "unique_count": 19,
                    "nan_count": 0,
                    "min": "10",
                    "max": "1234",
                    "histogram": [
                      {
                        "bin_start": 10,
                        "bin_end": 132.4,
                        "count": 4
                      },
                      {
                        "bin_start": 132.4,
                        "bin_end": 254.8,
                        "count": 3
                      },
                      {
                        "bin_start": 254.8,
                        "bin_end": 377.20000000000005,
                        "count": 0
                      },
                      {
                        "bin_start": 377.20000000000005,
                        "bin_end": 499.6,
                        "count": 2
                      },
                      {
                        "bin_start": 499.6,
                        "bin_end": 622,
                        "count": 2
                      },
                      {
                        "bin_start": 622,
                        "bin_end": 744.4000000000001,
                        "count": 1
                      },
                      {
                        "bin_start": 744.4000000000001,
                        "bin_end": 866.8000000000001,
                        "count": 2
                      },
                      {
                        "bin_start": 866.8000000000001,
                        "bin_end": 989.2,
                        "count": 2
                      },
                      {
                        "bin_start": 989.2,
                        "bin_end": 1111.6000000000001,
                        "count": 2
                      },
                      {
                        "bin_start": 1111.6000000000001,
                        "bin_end": 1234,
                        "count": 2
                      }
                    ]
                  }
                },
                {
                  "name": "still_pregnant",
                  "dtype": "object",
                  "stats": {
                    "unique_count": 1,
                    "nan_count": 0,
                    "categories": [
                      {
                        "name": "no",
                        "count": 20
                      }
                    ]
                  }
                },
                {
                  "name": "use_cases",
                  "dtype": "object",
                  "stats": {
                    "unique_count": 11,
                    "nan_count": 0,
                    "categories": [
                      {
                        "name": "use3",
                        "count": 3
                      },
                      {
                        "name": "use6",
                        "count": 2
                      },
                      {
                        "name": "9 others",
                        "count": 15
                      }
                    ]
                  }
                },
                {
                  "name": "_deepnote_index_column",
                  "dtype": "int64"
                }
              ],
              "rows_top": [
                {
                  "Unnamed: 0": 0,
                  "_id": 874,
                  "birth_date": "1978-11-17",
                  "date_of_birth": "1930-06-24",
                  "error": 7,
                  "lat": 120.34,
                  "long": 30.54,
                  "message": "What time are you available?",
                  "name": "bye",
                  "patient_id": 1217,
                  "patient_uuid": 1201,
                  "source": 596,
                  "source_id": 1088,
                  "still_pregnant": "no",
                  "use_cases": "use3",
                  "_deepnote_index_column": 0
                },
                {
                  "Unnamed: 0": 1,
                  "_id": 794,
                  "birth_date": "2006-10-22",
                  "date_of_birth": "1914-02-27",
                  "error": 9,
                  "lat": 120.34,
                  "long": 30.54,
                  "message": "Hello I would love to schedule an appointment",
                  "name": "nah",
                  "patient_id": 785,
                  "patient_uuid": 470,
                  "source": 1006,
                  "source_id": 65,
                  "still_pregnant": "no",
                  "use_cases": "use6",
                  "_deepnote_index_column": 1
                },
                {
                  "Unnamed: 0": 2,
                  "_id": 987,
                  "birth_date": "1981-08-06",
                  "date_of_birth": "1937-07-09",
                  "error": 5,
                  "lat": 120.34,
                  "long": 30.54,
                  "message": "What time are you available?",
                  "name": "bye",
                  "patient_id": 941,
                  "patient_uuid": 59,
                  "source": 1031,
                  "source_id": 621,
                  "still_pregnant": "no",
                  "use_cases": "use14",
                  "_deepnote_index_column": 2
                },
                {
                  "Unnamed: 0": 3,
                  "_id": 1172,
                  "birth_date": "1992-01-10",
                  "date_of_birth": "1916-02-25",
                  "error": 3,
                  "lat": 120.34,
                  "long": 30.54,
                  "message": "When can I reach you?",
                  "name": "nah",
                  "patient_id": 803,
                  "patient_uuid": 118,
                  "source": 1120,
                  "source_id": 223,
                  "still_pregnant": "no",
                  "use_cases": "use13",
                  "_deepnote_index_column": 3
                },
                {
                  "Unnamed: 0": 4,
                  "_id": 51,
                  "birth_date": "2010-10-07",
                  "date_of_birth": "1943-01-06",
                  "error": 5,
                  "lat": 120.34,
                  "long": 30.54,
                  "message": "Hello I would love to schedule an appointment",
                  "name": "nah",
                  "patient_id": 475,
                  "patient_uuid": 525,
                  "source": 861,
                  "source_id": 1234,
                  "still_pregnant": "no",
                  "use_cases": "use7",
                  "_deepnote_index_column": 4
                },
                {
                  "Unnamed: 0": 5,
                  "_id": 970,
                  "birth_date": "1993-03-12",
                  "date_of_birth": "1924-04-27",
                  "error": 10,
                  "lat": 120.34,
                  "long": 30.54,
                  "message": "When can I reach you?",
                  "name": "bye",
                  "patient_id": 1005,
                  "patient_uuid": 324,
                  "source": 763,
                  "source_id": 94,
                  "still_pregnant": "no",
                  "use_cases": "use2",
                  "_deepnote_index_column": 5
                },
                {
                  "Unnamed: 0": 6,
                  "_id": 254,
                  "birth_date": "1982-01-21",
                  "date_of_birth": "1912-11-18",
                  "error": 5,
                  "lat": 120.34,
                  "long": 30.54,
                  "message": "What time are you available?",
                  "name": "bye",
                  "patient_id": 115,
                  "patient_uuid": 407,
                  "source": 16,
                  "source_id": 1146,
                  "still_pregnant": "no",
                  "use_cases": "use9",
                  "_deepnote_index_column": 6
                },
                {
                  "Unnamed: 0": 7,
                  "_id": 1195,
                  "birth_date": "2005-05-02",
                  "date_of_birth": "1926-02-04",
                  "error": 8,
                  "lat": 120.34,
                  "long": 30.54,
                  "message": "What time are you available?",
                  "name": "bye",
                  "patient_id": 466,
                  "patient_uuid": 275,
                  "source": 203,
                  "source_id": 828,
                  "still_pregnant": "no",
                  "use_cases": "use2",
                  "_deepnote_index_column": 7
                },
                {
                  "Unnamed: 0": 8,
                  "_id": 619,
                  "birth_date": "1995-09-27",
                  "date_of_birth": "1942-01-02",
                  "error": 4,
                  "lat": 120.34,
                  "long": 30.54,
                  "message": "When can I reach you?",
                  "name": "Yeah",
                  "patient_id": 712,
                  "patient_uuid": 1229,
                  "source": 943,
                  "source_id": 115,
                  "still_pregnant": "no",
                  "use_cases": "use10",
                  "_deepnote_index_column": 8
                },
                {
                  "Unnamed: 0": 9,
                  "_id": 638,
                  "birth_date": "2000-06-21",
                  "date_of_birth": "1937-11-27",
                  "error": 5,
                  "lat": 120.34,
                  "long": 30.54,
                  "message": "Thanks!",
                  "name": "bye",
                  "patient_id": 1016,
                  "patient_uuid": 615,
                  "source": 974,
                  "source_id": 885,
                  "still_pregnant": "no",
                  "use_cases": "use9",
                  "_deepnote_index_column": 9
                },
                {
                  "Unnamed: 0": 10,
                  "_id": 545,
                  "birth_date": "1986-04-17",
                  "date_of_birth": "1949-09-08",
                  "error": 7,
                  "lat": 120.34,
                  "long": 30.54,
                  "message": "When can I reach you?",
                  "name": "bye",
                  "patient_id": 1139,
                  "patient_uuid": 607,
                  "source": 671,
                  "source_id": 548,
                  "still_pregnant": "no",
                  "use_cases": "use3",
                  "_deepnote_index_column": 10
                },
                {
                  "Unnamed: 0": 11,
                  "_id": 576,
                  "birth_date": "1993-08-22",
                  "date_of_birth": "1941-03-15",
                  "error": 5,
                  "lat": 120.34,
                  "long": 30.54,
                  "message": "When can I reach you?",
                  "name": "bye",
                  "patient_id": 900,
                  "patient_uuid": 790,
                  "source": 495,
                  "source_id": 10,
                  "still_pregnant": "no",
                  "use_cases": "use10",
                  "_deepnote_index_column": 11
                },
                {
                  "Unnamed: 0": 12,
                  "_id": 165,
                  "birth_date": "2010-06-01",
                  "date_of_birth": "1940-02-05",
                  "error": 2,
                  "lat": 120.34,
                  "long": 30.54,
                  "message": "What time are you available?",
                  "name": "nah",
                  "patient_id": 216,
                  "patient_uuid": 511,
                  "source": 74,
                  "source_id": 647,
                  "still_pregnant": "no",
                  "use_cases": "use5",
                  "_deepnote_index_column": 12
                },
                {
                  "Unnamed: 0": 13,
                  "_id": 245,
                  "birth_date": "1963-03-10",
                  "date_of_birth": "1924-09-12",
                  "error": 2,
                  "lat": 120.34,
                  "long": 30.54,
                  "message": "When can I reach you?",
                  "name": "nah",
                  "patient_id": 1211,
                  "patient_uuid": 375,
                  "source": 311,
                  "source_id": 401,
                  "still_pregnant": "no",
                  "use_cases": "use8",
                  "_deepnote_index_column": 13
                },
                {
                  "Unnamed: 0": 14,
                  "_id": 913,
                  "birth_date": "1981-11-26",
                  "date_of_birth": "1917-05-11",
                  "error": 4,
                  "lat": 120.34,
                  "long": 30.54,
                  "message": "What time are you available?",
                  "name": "bye",
                  "patient_id": 257,
                  "patient_uuid": 546,
                  "source": 1168,
                  "source_id": 933,
                  "still_pregnant": "no",
                  "use_cases": "use11",
                  "_deepnote_index_column": 14
                },
                {
                  "Unnamed: 0": 15,
                  "_id": 343,
                  "birth_date": "2012-03-22",
                  "date_of_birth": "1940-09-05",
                  "error": 2,
                  "lat": 120.34,
                  "long": 30.54,
                  "message": "When can I reach you?",
                  "name": "nah",
                  "patient_id": 9,
                  "patient_uuid": 696,
                  "source": 313,
                  "source_id": 1006,
                  "still_pregnant": "no",
                  "use_cases": "use3",
                  "_deepnote_index_column": 15
                },
                {
                  "Unnamed: 0": 16,
                  "_id": 209,
                  "birth_date": "1952-06-06",
                  "date_of_birth": "1903-09-23",
                  "error": 5,
                  "lat": 120.34,
                  "long": 30.54,
                  "message": "When can I reach you?",
                  "name": "bye",
                  "patient_id": 526,
                  "patient_uuid": 1000,
                  "source": 915,
                  "source_id": 769,
                  "still_pregnant": "no",
                  "use_cases": "use6",
                  "_deepnote_index_column": 16
                },
                {
                  "Unnamed: 0": 17,
                  "_id": 849,
                  "birth_date": "1979-03-12",
                  "date_of_birth": "1925-09-07",
                  "error": 3,
                  "lat": 120.34,
                  "long": 30.54,
                  "message": "What time are you available?",
                  "name": "nah",
                  "patient_id": 343,
                  "patient_uuid": 120,
                  "source": 62,
                  "source_id": 182,
                  "still_pregnant": "no",
                  "use_cases": "use8",
                  "_deepnote_index_column": 17
                },
                {
                  "Unnamed: 0": 18,
                  "_id": 977,
                  "birth_date": "1994-08-23",
                  "date_of_birth": "1905-01-12",
                  "error": 3,
                  "lat": 120.34,
                  "long": 30.54,
                  "message": "When can I reach you?",
                  "name": "bye",
                  "patient_id": 458,
                  "patient_uuid": 263,
                  "source": 930,
                  "source_id": 456,
                  "still_pregnant": "no",
                  "use_cases": "use13",
                  "_deepnote_index_column": 18
                },
                {
                  "Unnamed: 0": 19,
                  "_id": 1005,
                  "birth_date": "1972-02-06",
                  "date_of_birth": "1951-04-07",
                  "error": 3,
                  "lat": 120.34,
                  "long": 30.54,
                  "message": "When can I reach you?",
                  "name": "nah",
                  "patient_id": 479,
                  "patient_uuid": 841,
                  "source": 1175,
                  "source_id": 223,
                  "still_pregnant": "no",
                  "use_cases": "use14",
                  "_deepnote_index_column": 19
                }
              ],
              "rows_bottom": null
            },
            "text/plain": "    Unnamed: 0   _id  birth_date date_of_birth  error     lat   long  \\\n0            0   874  1978-11-17    1930-06-24    7.0  120.34  30.54   \n1            1   794  2006-10-22    1914-02-27    9.0  120.34  30.54   \n2            2   987  1981-08-06    1937-07-09    5.0  120.34  30.54   \n3            3  1172  1992-01-10    1916-02-25    3.0  120.34  30.54   \n4            4    51  2010-10-07    1943-01-06    5.0  120.34  30.54   \n5            5   970  1993-03-12    1924-04-27   10.0  120.34  30.54   \n6            6   254  1982-01-21    1912-11-18    5.0  120.34  30.54   \n7            7  1195  2005-05-02    1926-02-04    8.0  120.34  30.54   \n8            8   619  1995-09-27    1942-01-02    4.0  120.34  30.54   \n9            9   638  2000-06-21    1937-11-27    5.0  120.34  30.54   \n10          10   545  1986-04-17    1949-09-08    7.0  120.34  30.54   \n11          11   576  1993-08-22    1941-03-15    5.0  120.34  30.54   \n12          12   165  2010-06-01    1940-02-05    2.0  120.34  30.54   \n13          13   245  1963-03-10    1924-09-12    2.0  120.34  30.54   \n14          14   913  1981-11-26    1917-05-11    4.0  120.34  30.54   \n15          15   343  2012-03-22    1940-09-05    2.0  120.34  30.54   \n16          16   209  1952-06-06    1903-09-23    5.0  120.34  30.54   \n17          17   849  1979-03-12    1925-09-07    3.0  120.34  30.54   \n18          18   977  1994-08-23    1905-01-12    3.0  120.34  30.54   \n19          19  1005  1972-02-06    1951-04-07    3.0  120.34  30.54   \n\n                                          message  name  patient_id  \\\n0                    What time are you available?   bye        1217   \n1   Hello I would love to schedule an appointment   nah         785   \n2                    What time are you available?   bye         941   \n3                           When can I reach you?   nah         803   \n4   Hello I would love to schedule an appointment   nah         475   \n5                           When can I reach you?   bye        1005   \n6                    What time are you available?   bye         115   \n7                    What time are you available?   bye         466   \n8                           When can I reach you?  Yeah         712   \n9                                         Thanks!   bye        1016   \n10                          When can I reach you?   bye        1139   \n11                          When can I reach you?   bye         900   \n12                   What time are you available?   nah         216   \n13                          When can I reach you?   nah        1211   \n14                   What time are you available?   bye         257   \n15                          When can I reach you?   nah           9   \n16                          When can I reach you?   bye         526   \n17                   What time are you available?   nah         343   \n18                          When can I reach you?   bye         458   \n19                          When can I reach you?   nah         479   \n\n    patient_uuid  source  source_id still_pregnant use_cases  \n0           1201     596       1088             no      use3  \n1            470    1006         65             no      use6  \n2             59    1031        621             no     use14  \n3            118    1120        223             no     use13  \n4            525     861       1234             no      use7  \n5            324     763         94             no      use2  \n6            407      16       1146             no      use9  \n7            275     203        828             no      use2  \n8           1229     943        115             no     use10  \n9            615     974        885             no      use9  \n10           607     671        548             no      use3  \n11           790     495         10             no     use10  \n12           511      74        647             no      use5  \n13           375     311        401             no      use8  \n14           546    1168        933             no     use11  \n15           696     313       1006             no      use3  \n16          1000     915        769             no      use6  \n17           120      62        182             no      use8  \n18           263     930        456             no     use13  \n19           841    1175        223             no     use14  ",
            "text/html": "<div>\n<style scoped>\n    .dataframe tbody tr th:only-of-type {\n        vertical-align: middle;\n    }\n\n    .dataframe tbody tr th {\n        vertical-align: top;\n    }\n\n    .dataframe thead th {\n        text-align: right;\n    }\n</style>\n<table border=\"1\" class=\"dataframe\">\n  <thead>\n    <tr style=\"text-align: right;\">\n      <th></th>\n      <th>Unnamed: 0</th>\n      <th>_id</th>\n      <th>birth_date</th>\n      <th>date_of_birth</th>\n      <th>error</th>\n      <th>lat</th>\n      <th>long</th>\n      <th>message</th>\n      <th>name</th>\n      <th>patient_id</th>\n      <th>patient_uuid</th>\n      <th>source</th>\n      <th>source_id</th>\n      <th>still_pregnant</th>\n      <th>use_cases</th>\n    </tr>\n  </thead>\n  <tbody>\n    <tr>\n      <th>0</th>\n      <td>0</td>\n      <td>874</td>\n      <td>1978-11-17</td>\n      <td>1930-06-24</td>\n      <td>7.0</td>\n      <td>120.34</td>\n      <td>30.54</td>\n      <td>What time are you available?</td>\n      <td>bye</td>\n      <td>1217</td>\n      <td>1201</td>\n      <td>596</td>\n      <td>1088</td>\n      <td>no</td>\n      <td>use3</td>\n    </tr>\n    <tr>\n      <th>1</th>\n      <td>1</td>\n      <td>794</td>\n      <td>2006-10-22</td>\n      <td>1914-02-27</td>\n      <td>9.0</td>\n      <td>120.34</td>\n      <td>30.54</td>\n      <td>Hello I would love to schedule an appointment</td>\n      <td>nah</td>\n      <td>785</td>\n      <td>470</td>\n      <td>1006</td>\n      <td>65</td>\n      <td>no</td>\n      <td>use6</td>\n    </tr>\n    <tr>\n      <th>2</th>\n      <td>2</td>\n      <td>987</td>\n      <td>1981-08-06</td>\n      <td>1937-07-09</td>\n      <td>5.0</td>\n      <td>120.34</td>\n      <td>30.54</td>\n      <td>What time are you available?</td>\n      <td>bye</td>\n      <td>941</td>\n      <td>59</td>\n      <td>1031</td>\n      <td>621</td>\n      <td>no</td>\n      <td>use14</td>\n    </tr>\n    <tr>\n      <th>3</th>\n      <td>3</td>\n      <td>1172</td>\n      <td>1992-01-10</td>\n      <td>1916-02-25</td>\n      <td>3.0</td>\n      <td>120.34</td>\n      <td>30.54</td>\n      <td>When can I reach you?</td>\n      <td>nah</td>\n      <td>803</td>\n      <td>118</td>\n      <td>1120</td>\n      <td>223</td>\n      <td>no</td>\n      <td>use13</td>\n    </tr>\n    <tr>\n      <th>4</th>\n      <td>4</td>\n      <td>51</td>\n      <td>2010-10-07</td>\n      <td>1943-01-06</td>\n      <td>5.0</td>\n      <td>120.34</td>\n      <td>30.54</td>\n      <td>Hello I would love to schedule an appointment</td>\n      <td>nah</td>\n      <td>475</td>\n      <td>525</td>\n      <td>861</td>\n      <td>1234</td>\n      <td>no</td>\n      <td>use7</td>\n    </tr>\n    <tr>\n      <th>5</th>\n      <td>5</td>\n      <td>970</td>\n      <td>1993-03-12</td>\n      <td>1924-04-27</td>\n      <td>10.0</td>\n      <td>120.34</td>\n      <td>30.54</td>\n      <td>When can I reach you?</td>\n      <td>bye</td>\n      <td>1005</td>\n      <td>324</td>\n      <td>763</td>\n      <td>94</td>\n      <td>no</td>\n      <td>use2</td>\n    </tr>\n    <tr>\n      <th>6</th>\n      <td>6</td>\n      <td>254</td>\n      <td>1982-01-21</td>\n      <td>1912-11-18</td>\n      <td>5.0</td>\n      <td>120.34</td>\n      <td>30.54</td>\n      <td>What time are you available?</td>\n      <td>bye</td>\n      <td>115</td>\n      <td>407</td>\n      <td>16</td>\n      <td>1146</td>\n      <td>no</td>\n      <td>use9</td>\n    </tr>\n    <tr>\n      <th>7</th>\n      <td>7</td>\n      <td>1195</td>\n      <td>2005-05-02</td>\n      <td>1926-02-04</td>\n      <td>8.0</td>\n      <td>120.34</td>\n      <td>30.54</td>\n      <td>What time are you available?</td>\n      <td>bye</td>\n      <td>466</td>\n      <td>275</td>\n      <td>203</td>\n      <td>828</td>\n      <td>no</td>\n      <td>use2</td>\n    </tr>\n    <tr>\n      <th>8</th>\n      <td>8</td>\n      <td>619</td>\n      <td>1995-09-27</td>\n      <td>1942-01-02</td>\n      <td>4.0</td>\n      <td>120.34</td>\n      <td>30.54</td>\n      <td>When can I reach you?</td>\n      <td>Yeah</td>\n      <td>712</td>\n      <td>1229</td>\n      <td>943</td>\n      <td>115</td>\n      <td>no</td>\n      <td>use10</td>\n    </tr>\n    <tr>\n      <th>9</th>\n      <td>9</td>\n      <td>638</td>\n      <td>2000-06-21</td>\n      <td>1937-11-27</td>\n      <td>5.0</td>\n      <td>120.34</td>\n      <td>30.54</td>\n      <td>Thanks!</td>\n      <td>bye</td>\n      <td>1016</td>\n      <td>615</td>\n      <td>974</td>\n      <td>885</td>\n      <td>no</td>\n      <td>use9</td>\n    </tr>\n    <tr>\n      <th>10</th>\n      <td>10</td>\n      <td>545</td>\n      <td>1986-04-17</td>\n      <td>1949-09-08</td>\n      <td>7.0</td>\n      <td>120.34</td>\n      <td>30.54</td>\n      <td>When can I reach you?</td>\n      <td>bye</td>\n      <td>1139</td>\n      <td>607</td>\n      <td>671</td>\n      <td>548</td>\n      <td>no</td>\n      <td>use3</td>\n    </tr>\n    <tr>\n      <th>11</th>\n      <td>11</td>\n      <td>576</td>\n      <td>1993-08-22</td>\n      <td>1941-03-15</td>\n      <td>5.0</td>\n      <td>120.34</td>\n      <td>30.54</td>\n      <td>When can I reach you?</td>\n      <td>bye</td>\n      <td>900</td>\n      <td>790</td>\n      <td>495</td>\n      <td>10</td>\n      <td>no</td>\n      <td>use10</td>\n    </tr>\n    <tr>\n      <th>12</th>\n      <td>12</td>\n      <td>165</td>\n      <td>2010-06-01</td>\n      <td>1940-02-05</td>\n      <td>2.0</td>\n      <td>120.34</td>\n      <td>30.54</td>\n      <td>What time are you available?</td>\n      <td>nah</td>\n      <td>216</td>\n      <td>511</td>\n      <td>74</td>\n      <td>647</td>\n      <td>no</td>\n      <td>use5</td>\n    </tr>\n    <tr>\n      <th>13</th>\n      <td>13</td>\n      <td>245</td>\n      <td>1963-03-10</td>\n      <td>1924-09-12</td>\n      <td>2.0</td>\n      <td>120.34</td>\n      <td>30.54</td>\n      <td>When can I reach you?</td>\n      <td>nah</td>\n      <td>1211</td>\n      <td>375</td>\n      <td>311</td>\n      <td>401</td>\n      <td>no</td>\n      <td>use8</td>\n    </tr>\n    <tr>\n      <th>14</th>\n      <td>14</td>\n      <td>913</td>\n      <td>1981-11-26</td>\n      <td>1917-05-11</td>\n      <td>4.0</td>\n      <td>120.34</td>\n      <td>30.54</td>\n      <td>What time are you available?</td>\n      <td>bye</td>\n      <td>257</td>\n      <td>546</td>\n      <td>1168</td>\n      <td>933</td>\n      <td>no</td>\n      <td>use11</td>\n    </tr>\n    <tr>\n      <th>15</th>\n      <td>15</td>\n      <td>343</td>\n      <td>2012-03-22</td>\n      <td>1940-09-05</td>\n      <td>2.0</td>\n      <td>120.34</td>\n      <td>30.54</td>\n      <td>When can I reach you?</td>\n      <td>nah</td>\n      <td>9</td>\n      <td>696</td>\n      <td>313</td>\n      <td>1006</td>\n      <td>no</td>\n      <td>use3</td>\n    </tr>\n    <tr>\n      <th>16</th>\n      <td>16</td>\n      <td>209</td>\n      <td>1952-06-06</td>\n      <td>1903-09-23</td>\n      <td>5.0</td>\n      <td>120.34</td>\n      <td>30.54</td>\n      <td>When can I reach you?</td>\n      <td>bye</td>\n      <td>526</td>\n      <td>1000</td>\n      <td>915</td>\n      <td>769</td>\n      <td>no</td>\n      <td>use6</td>\n    </tr>\n    <tr>\n      <th>17</th>\n      <td>17</td>\n      <td>849</td>\n      <td>1979-03-12</td>\n      <td>1925-09-07</td>\n      <td>3.0</td>\n      <td>120.34</td>\n      <td>30.54</td>\n      <td>What time are you available?</td>\n      <td>nah</td>\n      <td>343</td>\n      <td>120</td>\n      <td>62</td>\n      <td>182</td>\n      <td>no</td>\n      <td>use8</td>\n    </tr>\n    <tr>\n      <th>18</th>\n      <td>18</td>\n      <td>977</td>\n      <td>1994-08-23</td>\n      <td>1905-01-12</td>\n      <td>3.0</td>\n      <td>120.34</td>\n      <td>30.54</td>\n      <td>When can I reach you?</td>\n      <td>bye</td>\n      <td>458</td>\n      <td>263</td>\n      <td>930</td>\n      <td>456</td>\n      <td>no</td>\n      <td>use13</td>\n    </tr>\n    <tr>\n      <th>19</th>\n      <td>19</td>\n      <td>1005</td>\n      <td>1972-02-06</td>\n      <td>1951-04-07</td>\n      <td>3.0</td>\n      <td>120.34</td>\n      <td>30.54</td>\n      <td>When can I reach you?</td>\n      <td>nah</td>\n      <td>479</td>\n      <td>841</td>\n      <td>1175</td>\n      <td>223</td>\n      <td>no</td>\n      <td>use14</td>\n    </tr>\n  </tbody>\n</table>\n</div>"
          },
          "metadata": {}
        }
      ],
      "execution_count": null
    },
    {
      "cell_type": "code",
      "source": "",
      "metadata": {
        "tags": [],
        "cell_id": "00002-30fa1f6a-e32e-4c45-81d0-28e2e3f8c72a",
        "deepnote_cell_type": "code"
      },
      "outputs": [],
      "execution_count": null
    },
    {
      "cell_type": "markdown",
      "source": "<a style='text-decoration:none;line-height:16px;display:flex;color:#5B5B62;padding:10px;justify-content:end;' href='https://deepnote.com?utm_source=created-in-deepnote-cell&projectId=59003b3a-4258-4703-b30d-75642543bba1' target=\"_blank\">\n<img alt='Created in deepnote.com' style='display:inline;max-height:16px;margin:0px;margin-right:7.5px;' src='data:image/svg+xml;base64,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' > </img>\nCreated in <span style='font-weight:600;margin-left:4px;'>Deepnote</span></a>",
      "metadata": {
        "tags": [],
        "created_in_deepnote_cell": true,
        "deepnote_cell_type": "markdown"
      }
    }
  ],
  "nbformat": 4,
  "nbformat_minor": 2,
  "metadata": {
    "orig_nbformat": 2,
    "deepnote": {
      "is_reactive": false
    },
    "deepnote_notebook_id": "7354e467-498a-4b6b-9491-2cd1622ca563",
    "deepnote_execution_queue": []
  }
}